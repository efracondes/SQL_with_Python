{
 "cells": [
  {
   "cell_type": "markdown",
   "metadata": {},
   "source": [
    "# Creating and Modifying Tables\n",
    "\n",
    "In this notebook we present the SQL commands used to create and modify tables in a database. We make use of Python as our main programming, alongside libraries such as Pandas and Psycopg2 to present the results that we get throughout the notebook.\n",
    "\n",
    "## Case of Use\n",
    "\n",
    "In order to present the SQL commands in a context where their application makes sense, let's suppose the following scenario. Imagine that we want to create a database to keep a record of the premiere league clubs and their players. First of all, we must create two tables in the database, one for the clubs and one for the players. \n",
    "\n",
    "In order to start coding, we have to call the pandas and psycopg2 libraries and create a connection to communicate with the database. "
   ]
  },
  {
   "cell_type": "code",
   "execution_count": 1,
   "metadata": {},
   "outputs": [],
   "source": [
    "import pandas as pd\n",
    "import psycopg2 as pg2\n",
    "\n",
    "connection = pg2.connect(database = 'premier_league', user = 'postgres', password = 'password')"
   ]
  },
  {
   "cell_type": "markdown",
   "metadata": {},
   "source": [
    "Notice that we've already created a new databse called _ premier_league _\n",
    "\n",
    "Just like in the prevous notebook, we´ll define the get_data function in order to prevent memory problems and to make our code cleaner"
   ]
  },
  {
   "cell_type": "code",
   "execution_count": 2,
   "metadata": {},
   "outputs": [],
   "source": [
    "def get_data(query, rows = 10):\n",
    "\n",
    "    with connection.cursor() as cursor:\n",
    "        cursor.execute(query)\n",
    "\n",
    "        if rows == 'all':\n",
    "            raw_data = cursor.fetchall()\n",
    "        else:\n",
    "            raw_data = cursor.fetchmany(rows) \n",
    "\n",
    "        col_names = [col_desc[0] for col_desc in cursor.description]\n",
    "        data = pd.DataFrame(raw_data, columns = col_names)\n",
    "\n",
    "    return data"
   ]
  },
  {
   "cell_type": "markdown",
   "metadata": {},
   "source": [
    "Due to the complexity of the SQL commnands that we'll be implementing, we need to instantiate a _cursor_ object to use it throughout the notebook. Unlike previous notebooks, where we only used the _cursor_ object inside the get_data function.   "
   ]
  },
  {
   "cell_type": "code",
   "execution_count": 3,
   "metadata": {},
   "outputs": [],
   "source": [
    "cursor = connection.cursor()"
   ]
  },
  {
   "cell_type": "markdown",
   "metadata": {},
   "source": [
    "_ We'd like to be able to run this notebook multiple times. Since trying to create tables that already exist would lead to an error, the following code makes sure to delete the tables from the database before we try to create them _"
   ]
  },
  {
   "cell_type": "code",
   "execution_count": 4,
   "metadata": {},
   "outputs": [],
   "source": [
    "delete_tables = 'DROP TABLE IF EXISTS clubs, players'\n",
    "cursor.execute(delete_tables)"
   ]
  },
  {
   "cell_type": "markdown",
   "metadata": {},
   "source": [
    "## CREATE TABLE\n",
    "\n",
    "Now that we've ensured that the premier league database is empty, we can continue to explain how to create the tables we need. As mentioned above, we need to create two tables, one for the clubs and another for the players, let's focus on the first one. \n",
    "\n",
    "## Ex. 1\n",
    "\n",
    "Suppose we want the clubs table to have the following fields: _ club_id _, _name_, _stadium_name_, _location_ and _ times_champion _ . Apart form knowing what columns we want the table to have, we need to determine the data type and the constrains for each column. For example, the name column must consist only of string values (data type) and, given that every club must have a name and that all of  those names must different, those values must be unique and not NULL (constrains). Similar considerations must be taken for the other columns, however, the reader can easily guess them just by looking at the code."
   ]
  },
  {
   "cell_type": "code",
   "execution_count": 5,
   "metadata": {},
   "outputs": [],
   "source": [
    "create_clubs_table = '''\n",
    "                     CREATE TABLE clubs(\n",
    "                         club_id SERIAL PRIMARY KEY,\n",
    "                         name VARCHAR(100) UNIQUE NOT NULL,\n",
    "                         stadium_name VARCHAR(100), \n",
    "                         location VARCHAR(100),\n",
    "                         times_champion INTEGER CHECK(times_champion >= 0)\n",
    "                     )\n",
    "                     '''\n",
    "\n",
    "cursor.execute(create_clubs_table)"
   ]
  },
  {
   "cell_type": "markdown",
   "metadata": {},
   "source": [
    "We must point out something here, look at the line where we define the club_id column, we set the datatype as SERIAL and impoes a constrain called PRIMARY KEY on that column. It is a good practice that all the SQL tables have a field that uniquely assings a index to each row in the table, we define such column by imposing the PRIMARY KEY constrain on it. Setting the data type of the club_id column will prevent us from assigning two rows the same club_id and, at the time of adding new rows to the table, SQL will automatically assing a proper club_id for us.\n",
    "\n",
    "## Ex. 2\n",
    "\n",
    "Now is time to define the players table, the columns of this table are the following: _player_id_, _first_name_, _last_name_, _club_id_ and _nationality_. Let's create the table"
   ]
  },
  {
   "cell_type": "code",
   "execution_count": 6,
   "metadata": {},
   "outputs": [],
   "source": [
    "create_players_table = '''\n",
    "                       CREATE TABLE players(\n",
    "                           player_id SERIAL PRIMARY KEY,\n",
    "                           first_name VARCHAR(100) NOT NULL,\n",
    "                           last_name VARCHAR(100) NOT NULL, \n",
    "                           club_id INTEGER REFERENCES clubs(club_id),\n",
    "                           nationality VARCHAR(100) NOT NULL\n",
    "                       )\n",
    "                       '''\n",
    "\n",
    "cursor.execute(create_players_table)"
   ]
  },
  {
   "cell_type": "markdown",
   "metadata": {},
   "source": [
    "Notice that we've imposed the contrain REFERENCES clubs(club_id) on the club_id column, this constrain means that the values of that column are making reference to the values of a column in another table, using this constrain prevents us from asigning a player to an unexisting club.\n",
    "\n",
    "Let's make sure that we created these two tables"
   ]
  },
  {
   "cell_type": "code",
   "execution_count": 7,
   "metadata": {},
   "outputs": [
    {
     "output_type": "execute_result",
     "data": {
      "text/plain": "Empty DataFrame\nColumns: [club_id, name, stadium_name, location, times_champion]\nIndex: []",
      "text/html": "<div>\n<style scoped>\n    .dataframe tbody tr th:only-of-type {\n        vertical-align: middle;\n    }\n\n    .dataframe tbody tr th {\n        vertical-align: top;\n    }\n\n    .dataframe thead th {\n        text-align: right;\n    }\n</style>\n<table border=\"1\" class=\"dataframe\">\n  <thead>\n    <tr style=\"text-align: right;\">\n      <th></th>\n      <th>club_id</th>\n      <th>name</th>\n      <th>stadium_name</th>\n      <th>location</th>\n      <th>times_champion</th>\n    </tr>\n  </thead>\n  <tbody>\n  </tbody>\n</table>\n</div>"
     },
     "metadata": {},
     "execution_count": 7
    }
   ],
   "source": [
    "ask_for_clubs = 'SELECT * FROM clubs'\n",
    "clubs = get_data(ask_for_clubs)\n",
    "clubs"
   ]
  },
  {
   "cell_type": "code",
   "execution_count": 8,
   "metadata": {},
   "outputs": [
    {
     "output_type": "execute_result",
     "data": {
      "text/plain": "Empty DataFrame\nColumns: [player_id, first_name, last_name, club_id, nationality]\nIndex: []",
      "text/html": "<div>\n<style scoped>\n    .dataframe tbody tr th:only-of-type {\n        vertical-align: middle;\n    }\n\n    .dataframe tbody tr th {\n        vertical-align: top;\n    }\n\n    .dataframe thead th {\n        text-align: right;\n    }\n</style>\n<table border=\"1\" class=\"dataframe\">\n  <thead>\n    <tr style=\"text-align: right;\">\n      <th></th>\n      <th>player_id</th>\n      <th>first_name</th>\n      <th>last_name</th>\n      <th>club_id</th>\n      <th>nationality</th>\n    </tr>\n  </thead>\n  <tbody>\n  </tbody>\n</table>\n</div>"
     },
     "metadata": {},
     "execution_count": 8
    }
   ],
   "source": [
    "ask_for_players = 'SELECT * FROM players'\n",
    "players = get_data(ask_for_players)\n",
    "players"
   ]
  },
  {
   "cell_type": "markdown",
   "metadata": {},
   "source": [
    "## INSERT Statement\n",
    "\n",
    "\n",
    "\n",
    "Now that we've created the tables, it's time to insert some rows into them.\n",
    "\n",
    "## Ex. 3\n",
    "\n",
    "We can instert one row into the clubs table"
   ]
  },
  {
   "cell_type": "code",
   "execution_count": 9,
   "metadata": {},
   "outputs": [],
   "source": [
    "insert_club = '''\n",
    "             INSERT INTO clubs(name, stadium_name, location, times_champion)\n",
    "             VALUES\n",
    "             ('Liverpool FC', 'Anfield', 'Liverpool', 19)\n",
    "             '''\n",
    "\n",
    "cursor.execute(insert_club)"
   ]
  },
  {
   "cell_type": "markdown",
   "metadata": {},
   "source": [
    "## Ex. 4\n",
    "\n",
    "Also we cann add several rows"
   ]
  },
  {
   "cell_type": "code",
   "execution_count": 10,
   "metadata": {},
   "outputs": [],
   "source": [
    "insert_clubs = '''\n",
    "               INSERT INTO clubs(name, stadium_name, location, times_champion)\n",
    "               VALUES\n",
    "               ('Manchester United FC', 'Old Trafford', 'Manchester', 20),\n",
    "               ('Manchester City FC', 'Etihad Stadium', 'Manchester', 6)\n",
    "               '''\n",
    "\n",
    "cursor.execute(insert_clubs)"
   ]
  },
  {
   "cell_type": "markdown",
   "metadata": {},
   "source": [
    "## Ex. 5\n",
    "Another way to add several rows is the following"
   ]
  },
  {
   "cell_type": "code",
   "execution_count": 11,
   "metadata": {},
   "outputs": [],
   "source": [
    "clubs = [\n",
    "        ('Chelsea FC', 'Stamford Bridge', 'London', 6),\n",
    "        ('Tottenham Hotspur FC', 'Tottenham Hotspur Stadium', 'London', 2)\n",
    "        ]\n",
    "\n",
    "insert_generic_club = '''\n",
    "                      INSERT INTO clubs(name, stadium_name, location, times_champion)\n",
    "                      VALUES\n",
    "                      (%s, %s, %s, %s)\n",
    "                      '''\n",
    "\n",
    "for club in clubs:\n",
    "    cursor.execute(insert_generic_club, club)"
   ]
  },
  {
   "cell_type": "markdown",
   "metadata": {},
   "source": [
    "Let's display the clubs table"
   ]
  },
  {
   "cell_type": "code",
   "execution_count": 12,
   "metadata": {},
   "outputs": [
    {
     "output_type": "execute_result",
     "data": {
      "text/plain": "   club_id                  name               stadium_name    location  \\\n0        1          Liverpool FC                    Anfield   Liverpool   \n1        2  Manchester United FC               Old Trafford  Manchester   \n2        3    Manchester City FC             Etihad Stadium  Manchester   \n3        4            Chelsea FC            Stamford Bridge      London   \n4        5  Tottenham Hotspur FC  Tottenham Hotspur Stadium      London   \n\n   times_champion  \n0              19  \n1              20  \n2               6  \n3               6  \n4               2  ",
      "text/html": "<div>\n<style scoped>\n    .dataframe tbody tr th:only-of-type {\n        vertical-align: middle;\n    }\n\n    .dataframe tbody tr th {\n        vertical-align: top;\n    }\n\n    .dataframe thead th {\n        text-align: right;\n    }\n</style>\n<table border=\"1\" class=\"dataframe\">\n  <thead>\n    <tr style=\"text-align: right;\">\n      <th></th>\n      <th>club_id</th>\n      <th>name</th>\n      <th>stadium_name</th>\n      <th>location</th>\n      <th>times_champion</th>\n    </tr>\n  </thead>\n  <tbody>\n    <tr>\n      <th>0</th>\n      <td>1</td>\n      <td>Liverpool FC</td>\n      <td>Anfield</td>\n      <td>Liverpool</td>\n      <td>19</td>\n    </tr>\n    <tr>\n      <th>1</th>\n      <td>2</td>\n      <td>Manchester United FC</td>\n      <td>Old Trafford</td>\n      <td>Manchester</td>\n      <td>20</td>\n    </tr>\n    <tr>\n      <th>2</th>\n      <td>3</td>\n      <td>Manchester City FC</td>\n      <td>Etihad Stadium</td>\n      <td>Manchester</td>\n      <td>6</td>\n    </tr>\n    <tr>\n      <th>3</th>\n      <td>4</td>\n      <td>Chelsea FC</td>\n      <td>Stamford Bridge</td>\n      <td>London</td>\n      <td>6</td>\n    </tr>\n    <tr>\n      <th>4</th>\n      <td>5</td>\n      <td>Tottenham Hotspur FC</td>\n      <td>Tottenham Hotspur Stadium</td>\n      <td>London</td>\n      <td>2</td>\n    </tr>\n  </tbody>\n</table>\n</div>"
     },
     "metadata": {},
     "execution_count": 12
    }
   ],
   "source": [
    "ask_for_clubs = 'SELECT * FROM clubs'\n",
    "clubs = get_data(ask_for_clubs)\n",
    "clubs"
   ]
  },
  {
   "cell_type": "markdown",
   "metadata": {},
   "source": [
    "Notice that, although we didn't define the club_id value for any of the rows, SQL has automatically filled this field. Ex## Ex. 6\n",
    "\n",
    "Let's add some players to the players table"
   ]
  },
  {
   "cell_type": "code",
   "execution_count": 13,
   "metadata": {},
   "outputs": [
    {
     "output_type": "execute_result",
     "data": {
      "text/plain": "   player_id first_name last_name  club_id nationality\n0          1    Mohamed     Salah        1    Egyptian\n1          2      Sadio      Mane        1  Senegalese\n2          3     Marcus  Rashford        2     British\n3          4     Sergio    Aguero        3   Argentine\n4          5       Timo    Werner        4      German\n5          6      Harry      Kane        5     British",
      "text/html": "<div>\n<style scoped>\n    .dataframe tbody tr th:only-of-type {\n        vertical-align: middle;\n    }\n\n    .dataframe tbody tr th {\n        vertical-align: top;\n    }\n\n    .dataframe thead th {\n        text-align: right;\n    }\n</style>\n<table border=\"1\" class=\"dataframe\">\n  <thead>\n    <tr style=\"text-align: right;\">\n      <th></th>\n      <th>player_id</th>\n      <th>first_name</th>\n      <th>last_name</th>\n      <th>club_id</th>\n      <th>nationality</th>\n    </tr>\n  </thead>\n  <tbody>\n    <tr>\n      <th>0</th>\n      <td>1</td>\n      <td>Mohamed</td>\n      <td>Salah</td>\n      <td>1</td>\n      <td>Egyptian</td>\n    </tr>\n    <tr>\n      <th>1</th>\n      <td>2</td>\n      <td>Sadio</td>\n      <td>Mane</td>\n      <td>1</td>\n      <td>Senegalese</td>\n    </tr>\n    <tr>\n      <th>2</th>\n      <td>3</td>\n      <td>Marcus</td>\n      <td>Rashford</td>\n      <td>2</td>\n      <td>British</td>\n    </tr>\n    <tr>\n      <th>3</th>\n      <td>4</td>\n      <td>Sergio</td>\n      <td>Aguero</td>\n      <td>3</td>\n      <td>Argentine</td>\n    </tr>\n    <tr>\n      <th>4</th>\n      <td>5</td>\n      <td>Timo</td>\n      <td>Werner</td>\n      <td>4</td>\n      <td>German</td>\n    </tr>\n    <tr>\n      <th>5</th>\n      <td>6</td>\n      <td>Harry</td>\n      <td>Kane</td>\n      <td>5</td>\n      <td>British</td>\n    </tr>\n  </tbody>\n</table>\n</div>"
     },
     "metadata": {},
     "execution_count": 13
    }
   ],
   "source": [
    "players = [\n",
    "          ('Mohamed', 'Salah', 1, 'Egyptian'),\n",
    "          ('Sadio', 'Mane', 1, 'Senegalese'),\n",
    "          ('Marcus', 'Rashford', 2, 'British'),\n",
    "          ('Sergio', 'Aguero', 3, 'Argentine'),\n",
    "          ('Timo', 'Werner', 4, 'German') ,\n",
    "          ('Harry', 'Kane', 5, 'British')\n",
    "          ]\n",
    "\n",
    "insert_player = '''\n",
    "                INSERT INTO players(first_name, last_name, club_id, Nationality)\n",
    "                VALUES\n",
    "                (%s, %s, %s, %s)\n",
    "                '''\n",
    "                \n",
    "for player in players:\n",
    "    cursor.execute(insert_player, player)\n",
    "\n",
    "ask_for_players = 'SELECT * FROM players'\n",
    "players = get_data(ask_for_players)\n",
    "players"
   ]
  },
  {
   "cell_type": "markdown",
   "metadata": {},
   "source": [
    "## UPDATE Statement\n",
    "\n",
    "## Ex. 7\n",
    "\n",
    "Using the UPDATE statement we can modify the rows in the tables, for example"
   ]
  },
  {
   "cell_type": "code",
   "execution_count": 14,
   "metadata": {},
   "outputs": [
    {
     "output_type": "execute_result",
     "data": {
      "text/plain": "   club_id                  name               stadium_name    location  \\\n0        1          Liverpool FC                    Anfield   Liverpool   \n1        2  Manchester United FC               Old Trafford  Manchester   \n2        3    Manchester City FC             Etihad Stadium  Manchester   \n3        5  Tottenham Hotspur FC  Tottenham Hotspur Stadium      London   \n4        4            Chelsea FC       Not Chelseas Stadium      London   \n\n   times_champion  \n0              19  \n1              20  \n2               6  \n3               2  \n4               6  ",
      "text/html": "<div>\n<style scoped>\n    .dataframe tbody tr th:only-of-type {\n        vertical-align: middle;\n    }\n\n    .dataframe tbody tr th {\n        vertical-align: top;\n    }\n\n    .dataframe thead th {\n        text-align: right;\n    }\n</style>\n<table border=\"1\" class=\"dataframe\">\n  <thead>\n    <tr style=\"text-align: right;\">\n      <th></th>\n      <th>club_id</th>\n      <th>name</th>\n      <th>stadium_name</th>\n      <th>location</th>\n      <th>times_champion</th>\n    </tr>\n  </thead>\n  <tbody>\n    <tr>\n      <th>0</th>\n      <td>1</td>\n      <td>Liverpool FC</td>\n      <td>Anfield</td>\n      <td>Liverpool</td>\n      <td>19</td>\n    </tr>\n    <tr>\n      <th>1</th>\n      <td>2</td>\n      <td>Manchester United FC</td>\n      <td>Old Trafford</td>\n      <td>Manchester</td>\n      <td>20</td>\n    </tr>\n    <tr>\n      <th>2</th>\n      <td>3</td>\n      <td>Manchester City FC</td>\n      <td>Etihad Stadium</td>\n      <td>Manchester</td>\n      <td>6</td>\n    </tr>\n    <tr>\n      <th>3</th>\n      <td>5</td>\n      <td>Tottenham Hotspur FC</td>\n      <td>Tottenham Hotspur Stadium</td>\n      <td>London</td>\n      <td>2</td>\n    </tr>\n    <tr>\n      <th>4</th>\n      <td>4</td>\n      <td>Chelsea FC</td>\n      <td>Not Chelseas Stadium</td>\n      <td>London</td>\n      <td>6</td>\n    </tr>\n  </tbody>\n</table>\n</div>"
     },
     "metadata": {},
     "execution_count": 14
    }
   ],
   "source": [
    "change_stadium = '''\n",
    "                 UPDATE clubs\n",
    "                 SET stadium_name = 'Not Chelseas Stadium'\n",
    "                 WHERE name = 'Chelsea FC'\n",
    "                 '''\n",
    "\n",
    "cursor.execute(change_stadium)\n",
    "\n",
    "ask_for_clubs = 'SELECT * FROM clubs'\n",
    "clubs = get_data(ask_for_clubs)\n",
    "clubs"
   ]
  },
  {
   "cell_type": "markdown",
   "metadata": {},
   "source": [
    "## DELETE Statemenr\n",
    "\n",
    "## Ex. 8\n",
    "\n",
    "We can also delete rows form the tables "
   ]
  },
  {
   "cell_type": "code",
   "execution_count": 15,
   "metadata": {},
   "outputs": [
    {
     "output_type": "execute_result",
     "data": {
      "text/plain": "   player_id first_name last_name  club_id nationality\n0          1    Mohamed     Salah        1    Egyptian\n1          2      Sadio      Mane        1  Senegalese\n2          3     Marcus  Rashford        2     British\n3          4     Sergio    Aguero        3   Argentine\n4          5       Timo    Werner        4      German",
      "text/html": "<div>\n<style scoped>\n    .dataframe tbody tr th:only-of-type {\n        vertical-align: middle;\n    }\n\n    .dataframe tbody tr th {\n        vertical-align: top;\n    }\n\n    .dataframe thead th {\n        text-align: right;\n    }\n</style>\n<table border=\"1\" class=\"dataframe\">\n  <thead>\n    <tr style=\"text-align: right;\">\n      <th></th>\n      <th>player_id</th>\n      <th>first_name</th>\n      <th>last_name</th>\n      <th>club_id</th>\n      <th>nationality</th>\n    </tr>\n  </thead>\n  <tbody>\n    <tr>\n      <th>0</th>\n      <td>1</td>\n      <td>Mohamed</td>\n      <td>Salah</td>\n      <td>1</td>\n      <td>Egyptian</td>\n    </tr>\n    <tr>\n      <th>1</th>\n      <td>2</td>\n      <td>Sadio</td>\n      <td>Mane</td>\n      <td>1</td>\n      <td>Senegalese</td>\n    </tr>\n    <tr>\n      <th>2</th>\n      <td>3</td>\n      <td>Marcus</td>\n      <td>Rashford</td>\n      <td>2</td>\n      <td>British</td>\n    </tr>\n    <tr>\n      <th>3</th>\n      <td>4</td>\n      <td>Sergio</td>\n      <td>Aguero</td>\n      <td>3</td>\n      <td>Argentine</td>\n    </tr>\n    <tr>\n      <th>4</th>\n      <td>5</td>\n      <td>Timo</td>\n      <td>Werner</td>\n      <td>4</td>\n      <td>German</td>\n    </tr>\n  </tbody>\n</table>\n</div>"
     },
     "metadata": {},
     "execution_count": 15
    }
   ],
   "source": [
    "delete_harry = '''\n",
    "               DELETE FROM players\n",
    "               WHERE first_name = 'Harry'\n",
    "               '''\n",
    "\n",
    "cursor.execute(delete_harry)\n",
    "\n",
    "ask_for_players = 'SELECT * FROM players'\n",
    "players = get_data(ask_for_players)\n",
    "players"
   ]
  },
  {
   "cell_type": "markdown",
   "metadata": {},
   "source": [
    "## DROP Statement\n",
    "\n",
    "## Ex. 9\n",
    "\n",
    "The DROP Statement is used to completly remove a column in a table"
   ]
  },
  {
   "cell_type": "code",
   "execution_count": 16,
   "metadata": {},
   "outputs": [
    {
     "output_type": "execute_result",
     "data": {
      "text/plain": "   club_id                  name               stadium_name    location\n0        1          Liverpool FC                    Anfield   Liverpool\n1        2  Manchester United FC               Old Trafford  Manchester\n2        3    Manchester City FC             Etihad Stadium  Manchester\n3        5  Tottenham Hotspur FC  Tottenham Hotspur Stadium      London\n4        4            Chelsea FC       Not Chelseas Stadium      London",
      "text/html": "<div>\n<style scoped>\n    .dataframe tbody tr th:only-of-type {\n        vertical-align: middle;\n    }\n\n    .dataframe tbody tr th {\n        vertical-align: top;\n    }\n\n    .dataframe thead th {\n        text-align: right;\n    }\n</style>\n<table border=\"1\" class=\"dataframe\">\n  <thead>\n    <tr style=\"text-align: right;\">\n      <th></th>\n      <th>club_id</th>\n      <th>name</th>\n      <th>stadium_name</th>\n      <th>location</th>\n    </tr>\n  </thead>\n  <tbody>\n    <tr>\n      <th>0</th>\n      <td>1</td>\n      <td>Liverpool FC</td>\n      <td>Anfield</td>\n      <td>Liverpool</td>\n    </tr>\n    <tr>\n      <th>1</th>\n      <td>2</td>\n      <td>Manchester United FC</td>\n      <td>Old Trafford</td>\n      <td>Manchester</td>\n    </tr>\n    <tr>\n      <th>2</th>\n      <td>3</td>\n      <td>Manchester City FC</td>\n      <td>Etihad Stadium</td>\n      <td>Manchester</td>\n    </tr>\n    <tr>\n      <th>3</th>\n      <td>5</td>\n      <td>Tottenham Hotspur FC</td>\n      <td>Tottenham Hotspur Stadium</td>\n      <td>London</td>\n    </tr>\n    <tr>\n      <th>4</th>\n      <td>4</td>\n      <td>Chelsea FC</td>\n      <td>Not Chelseas Stadium</td>\n      <td>London</td>\n    </tr>\n  </tbody>\n</table>\n</div>"
     },
     "metadata": {},
     "execution_count": 16
    }
   ],
   "source": [
    "drop_stadiums = '''\n",
    "                ALTER TABLE clubs\n",
    "                DROP COLUMN times_champion\n",
    "                '''\n",
    "\n",
    "cursor.execute(drop_stadiums)\n",
    "\n",
    "ask_for_clubs = 'SELECT * FROM clubs'\n",
    "clubs = get_data(ask_for_clubs)\n",
    "clubs "
   ]
  },
  {
   "cell_type": "markdown",
   "metadata": {},
   "source": [
    "## Ex. 10\n",
    "\n",
    "We can also delete multiple columns at the same time"
   ]
  },
  {
   "cell_type": "code",
   "execution_count": 17,
   "metadata": {},
   "outputs": [
    {
     "output_type": "execute_result",
     "data": {
      "text/plain": "   player_id last_name  club_id\n0          1     Salah        1\n1          2      Mane        1\n2          3  Rashford        2\n3          4    Aguero        3\n4          5    Werner        4",
      "text/html": "<div>\n<style scoped>\n    .dataframe tbody tr th:only-of-type {\n        vertical-align: middle;\n    }\n\n    .dataframe tbody tr th {\n        vertical-align: top;\n    }\n\n    .dataframe thead th {\n        text-align: right;\n    }\n</style>\n<table border=\"1\" class=\"dataframe\">\n  <thead>\n    <tr style=\"text-align: right;\">\n      <th></th>\n      <th>player_id</th>\n      <th>last_name</th>\n      <th>club_id</th>\n    </tr>\n  </thead>\n  <tbody>\n    <tr>\n      <th>0</th>\n      <td>1</td>\n      <td>Salah</td>\n      <td>1</td>\n    </tr>\n    <tr>\n      <th>1</th>\n      <td>2</td>\n      <td>Mane</td>\n      <td>1</td>\n    </tr>\n    <tr>\n      <th>2</th>\n      <td>3</td>\n      <td>Rashford</td>\n      <td>2</td>\n    </tr>\n    <tr>\n      <th>3</th>\n      <td>4</td>\n      <td>Aguero</td>\n      <td>3</td>\n    </tr>\n    <tr>\n      <th>4</th>\n      <td>5</td>\n      <td>Werner</td>\n      <td>4</td>\n    </tr>\n  </tbody>\n</table>\n</div>"
     },
     "metadata": {},
     "execution_count": 17
    }
   ],
   "source": [
    "drop_columns = '''\n",
    "               ALTER TABLE players\n",
    "               DROP COLUMN first_name,\n",
    "               DROP COLUMN nationality\n",
    "               '''\n",
    "\n",
    "cursor.execute(drop_columns)\n",
    "\n",
    "ask_for_players = 'SELECT * FROM players'\n",
    "players = get_data(ask_for_players)\n",
    "players"
   ]
  },
  {
   "cell_type": "markdown",
   "metadata": {},
   "source": [
    "### In order to commit any changes to the database we must run the following code "
   ]
  },
  {
   "cell_type": "code",
   "execution_count": 18,
   "metadata": {},
   "outputs": [],
   "source": [
    "connection.commit()"
   ]
  },
  {
   "cell_type": "markdown",
   "metadata": {},
   "source": [
    "Finaly, we must close the connection and cursor "
   ]
  },
  {
   "cell_type": "code",
   "execution_count": 19,
   "metadata": {},
   "outputs": [],
   "source": [
    "cursor.close()\n",
    "connection.close()"
   ]
  },
  {
   "cell_type": "code",
   "execution_count": 29,
   "metadata": {},
   "outputs": [],
   "source": [
    "connection.rollback()"
   ]
  },
  {
   "cell_type": "code",
   "execution_count": 30,
   "metadata": {},
   "outputs": [
    {
     "output_type": "error",
     "ename": "UndefinedTable",
     "evalue": "relation \"players\" does not exist\nLINE 2:                 INSERT INTO players(first_name, last_name, c...\n                                    ^\n",
     "traceback": [
      "\u001b[0;31m---------------------------------------------------------------------------\u001b[0m",
      "\u001b[0;31mUndefinedTable\u001b[0m                            Traceback (most recent call last)",
      "\u001b[0;32m<ipython-input-30-f0fae86ceeb6>\u001b[0m in \u001b[0;36m<module>\u001b[0;34m\u001b[0m\n\u001b[1;32m     15\u001b[0m \u001b[0;34m\u001b[0m\u001b[0m\n\u001b[1;32m     16\u001b[0m \u001b[0;32mfor\u001b[0m \u001b[0mplayer\u001b[0m \u001b[0;32min\u001b[0m \u001b[0mplayers\u001b[0m\u001b[0;34m:\u001b[0m\u001b[0;34m\u001b[0m\u001b[0;34m\u001b[0m\u001b[0m\n\u001b[0;32m---> 17\u001b[0;31m     \u001b[0mcursor\u001b[0m\u001b[0;34m.\u001b[0m\u001b[0mexecute\u001b[0m\u001b[0;34m(\u001b[0m\u001b[0minsert_player\u001b[0m\u001b[0;34m,\u001b[0m \u001b[0mplayer\u001b[0m\u001b[0;34m)\u001b[0m\u001b[0;34m\u001b[0m\u001b[0;34m\u001b[0m\u001b[0m\n\u001b[0m",
      "\u001b[0;31mUndefinedTable\u001b[0m: relation \"players\" does not exist\nLINE 2:                 INSERT INTO players(first_name, last_name, c...\n                                    ^\n"
     ]
    }
   ],
   "source": [
    "players = [\n",
    "          ('Mohamned', 'Salah', 1, 'Egyptian'),\n",
    "          ('Sadio', 'Mane', 1, 'Senegalese'),\n",
    "          ('Marcus', 'Rashford', 2, 'British'),\n",
    "          ('Sergio', 'Aguero', 3, 'Argentine'),\n",
    "          ('Werner', 'Timo', 4, 'German'),\n",
    "          ('Harry', 'Kane', 5, 'British'),\n",
    "          ]\n",
    "\n",
    "insert_player = '''\n",
    "                INSERT INTO players(first_name, last_name, club_id, nationality)\n",
    "                VALUES\n",
    "                (%s, %s, %s, %s)\n",
    "                '''\n",
    "\n",
    "for player in players:\n",
    "    cursor.execute(insert_player, player)"
   ]
  },
  {
   "cell_type": "code",
   "execution_count": null,
   "metadata": {},
   "outputs": [],
   "source": []
  }
 ],
 "metadata": {
  "language_info": {
   "codemirror_mode": {
    "name": "ipython",
    "version": 3
   },
   "file_extension": ".py",
   "mimetype": "text/x-python",
   "name": "python",
   "nbconvert_exporter": "python",
   "pygments_lexer": "ipython3",
   "version": "3.8.1-final"
  },
  "orig_nbformat": 2,
  "kernelspec": {
   "name": "python38364bitsqlcondac46ff261eb2d405f8ac307a3c81d2935",
   "display_name": "Python 3.8.3 64-bit ('sql': conda)"
  }
 },
 "nbformat": 4,
 "nbformat_minor": 2
}