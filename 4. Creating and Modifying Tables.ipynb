{
 "cells": [
  {
   "cell_type": "markdown",
   "metadata": {},
   "source": [
    "# Creating and Modifying Tables\n",
    "\n",
    "In this notebook we present the SQL commands used to create and modify tables in a database. We make use of Python as our main programming, alongside libraries such as Pandas and Psycopg2 to present the results that we get throughout the notebook.\n",
    "\n",
    "## Case of Use\n",
    "\n",
    "In order to present the SQL commands in a context where their application makes sense, let's suppose the following scenario. Imagine that we want to create a database to keep a record of the premiere league clubs and their players. First of all, we must create two tables in the database, one for the clubs and one for the players. \n",
    "\n",
    "In order to start coding, we have to call the pandas and psycopg2 libraries and create a connection to communicate with the database. "
   ]
  },
  {
   "cell_type": "code",
   "execution_count": 12,
   "metadata": {},
   "outputs": [],
   "source": [
    "import pandas as pd\n",
    "import psycopg2 as pg2\n",
    "\n",
    "connection = pg2.connect(database = 'dvdrental', user = 'postgres', password = 'password')"
   ]
  },
  {
   "cell_type": "markdown",
   "metadata": {},
   "source": [
    "Notice that we've already created a new databse called _ premier_league _\n",
    "\n",
    "Just like in the prevous notebook, we´ll define the get_data function in order to prevent memory problems and to make our code cleaner"
   ]
  },
  {
   "cell_type": "code",
   "execution_count": 13,
   "metadata": {},
   "outputs": [],
   "source": [
    "def get_data(query, rows = 10):\n",
    "\n",
    "    with connection.cursor() as cursor:\n",
    "        cursor.execute(query)\n",
    "\n",
    "        if rows == 'all':\n",
    "            raw_data = cursor.fetchall()\n",
    "        else:\n",
    "            raw_data = cursor.fetchmany(rows) \n",
    "\n",
    "        col_names = [col_desc[0] for col_desc in cursor.description]\n",
    "        data = pd.DataFrame(raw_data, columns = col_names)\n",
    "\n",
    "    return data"
   ]
  },
  {
   "cell_type": "markdown",
   "metadata": {},
   "source": [
    "Due to the complexity of the SQL commnands that we'll be implementing, we need to instantiate a _cursor_ object to use it throughout the notebook. Unlike previous notebooks, where we only used the _cursor_ object inside the get_data function.   "
   ]
  },
  {
   "cell_type": "code",
   "execution_count": 14,
   "metadata": {},
   "outputs": [],
   "source": [
    "cursor = connection.cursor()"
   ]
  },
  {
   "cell_type": "markdown",
   "metadata": {},
   "source": [
    "_ We'd like to be able to run this notebook multiple times. Since trying to create tables that already exist would lead to an error, the following code makes sure to delete the tables from the database before we try to create them _"
   ]
  },
  {
   "cell_type": "code",
   "execution_count": 15,
   "metadata": {},
   "outputs": [],
   "source": [
    "delete_tables = 'DROP TABLE IF EXISTS clubs, players'\n",
    "cursor.execute(delete_tables)"
   ]
  },
  {
   "cell_type": "markdown",
   "metadata": {},
   "source": [
    "## CREATE TABLE\n",
    "\n",
    "Now that we've ensured that the premier league database is empty, we can continue to explain how to create the tables we need. As mentioned above, we need to create two tables, one for the clubs and another for the players, let's focus on the first one. \n",
    "\n",
    "## Ex. 1\n",
    "\n",
    "Suppose we want the clubs table to have the following fields: _ club_id _, _name_, _stadium_name_, _location_ and _ times_champion _ . Apart form knowing what columns we want the table to have, we need to determine the data type and the constrains for each column. For example, the name column must consist only of string values (data type) and, given that every club must have a name and that all of  those names must different, those values must be unique and not NULL (constrains). Similar considerations must be taken for the other columns, however, the reader can easily guess them just by looking at the code."
   ]
  },
  {
   "cell_type": "code",
   "execution_count": 16,
   "metadata": {},
   "outputs": [],
   "source": [
    "create_clubs_table = '''\n",
    "                     CREATE TABLE clubs(\n",
    "                         club_id SERIAL PRIMARY KEY,\n",
    "                         name VARCHAR(100) UNIQUE NOT NULL,\n",
    "                         stadium_name VARCHAR(100), \n",
    "                         location VARCHAR(100),\n",
    "                         times_champion INTEGER CHECK(times_champion >= 0)\n",
    "                     )\n",
    "                     '''\n",
    "\n",
    "cursor.execute(create_clubs_table)"
   ]
  },
  {
   "cell_type": "markdown",
   "metadata": {},
   "source": [
    "We must point out something here, look at the line where we define the club_id column, we set the datatype as SERIAL and impoes a constrain called PRIMARY KEY on that column. It is a good practice that all the SQL tables have a field that uniquely assings a index to each row in the table, we define such column by imposing the PRIMARY KEY constrain on it. Setting the data type of the club_id column will prevent us from assigning two rows the same club_id and, at the time of adding new rows to the table, SQL will automatically assing a proper club_id for us.\n",
    "\n",
    "## Ex. 2\n",
    "\n",
    "Now is time to define the players table, the columns of this table are the following: _player_id_, _first_name_, _last_name_, _club_id_ and _nationality_. Let's create the table"
   ]
  },
  {
   "cell_type": "code",
   "execution_count": 17,
   "metadata": {},
   "outputs": [],
   "source": [
    "create_players_table = '''\n",
    "                       CREATE TABLE players(\n",
    "                           player_id SERIAL PRIMARY KEY,\n",
    "                           first_name VARCHAR(100) NOT NULL,\n",
    "                           last_name VARCHAR(100) NOT NULL, \n",
    "                           club_id INTEGER REFERENCES clubs(club_id),\n",
    "                           nationality VARCHAR(100) NOT NULL\n",
    "                       )\n",
    "                       '''\n",
    "\n",
    "cursor.execute(create_players_table)"
   ]
  },
  {
   "cell_type": "markdown",
   "metadata": {},
   "source": [
    "Notice that we've imposed the contrain REFERENCES clubs(club_id) on the club_id column, this constrain means that the values of that column are making reference to the values of a column in another table, using this constrain prevents us from asigning a player to an unexisting club.\n",
    "\n",
    "Let's make sure that we created these two tables"
   ]
  },
  {
   "cell_type": "code",
   "execution_count": 18,
   "metadata": {},
   "outputs": [
    {
     "output_type": "execute_result",
     "data": {
      "text/plain": "Empty DataFrame\nColumns: [club_id, name, stadium_name, location, times_champion]\nIndex: []",
      "text/html": "<div>\n<style scoped>\n    .dataframe tbody tr th:only-of-type {\n        vertical-align: middle;\n    }\n\n    .dataframe tbody tr th {\n        vertical-align: top;\n    }\n\n    .dataframe thead th {\n        text-align: right;\n    }\n</style>\n<table border=\"1\" class=\"dataframe\">\n  <thead>\n    <tr style=\"text-align: right;\">\n      <th></th>\n      <th>club_id</th>\n      <th>name</th>\n      <th>stadium_name</th>\n      <th>location</th>\n      <th>times_champion</th>\n    </tr>\n  </thead>\n  <tbody>\n  </tbody>\n</table>\n</div>"
     },
     "metadata": {},
     "execution_count": 18
    }
   ],
   "source": [
    "ask_for_clubs = 'SELECT * FROM clubs'\n",
    "clubs = get_data(ask_for_clubs)\n",
    "clubs"
   ]
  },
  {
   "cell_type": "code",
   "execution_count": 19,
   "metadata": {},
   "outputs": [
    {
     "output_type": "execute_result",
     "data": {
      "text/plain": "Empty DataFrame\nColumns: [player_id, first_name, last_name, club_id, nationality]\nIndex: []",
      "text/html": "<div>\n<style scoped>\n    .dataframe tbody tr th:only-of-type {\n        vertical-align: middle;\n    }\n\n    .dataframe tbody tr th {\n        vertical-align: top;\n    }\n\n    .dataframe thead th {\n        text-align: right;\n    }\n</style>\n<table border=\"1\" class=\"dataframe\">\n  <thead>\n    <tr style=\"text-align: right;\">\n      <th></th>\n      <th>player_id</th>\n      <th>first_name</th>\n      <th>last_name</th>\n      <th>club_id</th>\n      <th>nationality</th>\n    </tr>\n  </thead>\n  <tbody>\n  </tbody>\n</table>\n</div>"
     },
     "metadata": {},
     "execution_count": 19
    }
   ],
   "source": [
    "ask_for_players = 'SELECT * FROM players'\n",
    "players = get_data(ask_for_players)\n",
    "players"
   ]
  },
  {
   "cell_type": "markdown",
   "metadata": {},
   "source": [
    "## INSERT Statement\n",
    "\n",
    "\n",
    "\n",
    "Now that we've created the tables, it's time to insert some rows into them.\n",
    "\n",
    "## Ex. 3\n",
    "\n",
    "We can instert one row into the clubs table"
   ]
  },
  {
   "cell_type": "code",
   "execution_count": 20,
   "metadata": {},
   "outputs": [],
   "source": [
    "insert_club = '''\n",
    "             INSERT INTO clubs(name, stadium_name, location, times_champion)\n",
    "             VALUES\n",
    "             ('Liverpool FC', 'Anfield', 'Liverpool', 19)\n",
    "             '''\n",
    "\n",
    "cursor.execute(insert_club)"
   ]
  },
  {
   "cell_type": "markdown",
   "metadata": {},
   "source": [
    "## Ex. 4\n",
    "\n",
    "Also we cann add several rows"
   ]
  },
  {
   "cell_type": "code",
   "execution_count": 21,
   "metadata": {},
   "outputs": [],
   "source": [
    "insert_clubs = '''\n",
    "               INSERT INTO clubs(name, stadium_name, location, times_champion)\n",
    "               VALUES\n",
    "               ('Manchester United FC', 'Old Trafford', 'Manchester', 20),\n",
    "               ('Manchester City FC', 'Etihad Stadium', 'Manchester', 6)\n",
    "               '''\n",
    "\n",
    "cursor.execute(insert_clubs)"
   ]
  },
  {
   "cell_type": "markdown",
   "metadata": {},
   "source": [
    "## Ex. 5\n",
    "Another way to add several rows is the following"
   ]
  },
  {
   "cell_type": "code",
   "execution_count": 23,
   "metadata": {},
   "outputs": [],
   "source": [
    "clubs = [\n",
    "        ('Chelsea FC', 'Stamford Bridge', 'London', 6),\n",
    "        ('Tottenham Hotspur FC', 'Tottenham Hotspur Stadium', 'London', 2)\n",
    "        ]\n",
    "\n",
    "insert_generic_club = '''\n",
    "                      INSERT INTO clubs(name, stadium_name, location, times_champion)\n",
    "                      VALUES\n",
    "                      (%s, %s, %s, %s)\n",
    "                      '''\n",
    "\n",
    "for club in clubs:\n",
    "    cursor.execute(insert_generic_club, club)"
   ]
  },
  {
   "cell_type": "markdown",
   "metadata": {},
   "source": [
    "Let's display the clubs table"
   ]
  },
  {
   "cell_type": "code",
   "execution_count": 24,
   "metadata": {},
   "outputs": [
    {
     "output_type": "execute_result",
     "data": {
      "text/plain": "   club_id                  name               stadium_name    location  \\\n0        1          Liverpool FC                    Anfield   Liverpool   \n1        2  Manchester United FC               Old Trafford  Manchester   \n2        3    Manchester City FC             Etihad Stadium  Manchester   \n3        4            Chelsea FC            Stamford Bridge      London   \n4        5  Tottenham Hotspur FC  Tottenham Hotspur Stadium      London   \n\n   times_champion  \n0              19  \n1              20  \n2               6  \n3               6  \n4               2  ",
      "text/html": "<div>\n<style scoped>\n    .dataframe tbody tr th:only-of-type {\n        vertical-align: middle;\n    }\n\n    .dataframe tbody tr th {\n        vertical-align: top;\n    }\n\n    .dataframe thead th {\n        text-align: right;\n    }\n</style>\n<table border=\"1\" class=\"dataframe\">\n  <thead>\n    <tr style=\"text-align: right;\">\n      <th></th>\n      <th>club_id</th>\n      <th>name</th>\n      <th>stadium_name</th>\n      <th>location</th>\n      <th>times_champion</th>\n    </tr>\n  </thead>\n  <tbody>\n    <tr>\n      <th>0</th>\n      <td>1</td>\n      <td>Liverpool FC</td>\n      <td>Anfield</td>\n      <td>Liverpool</td>\n      <td>19</td>\n    </tr>\n    <tr>\n      <th>1</th>\n      <td>2</td>\n      <td>Manchester United FC</td>\n      <td>Old Trafford</td>\n      <td>Manchester</td>\n      <td>20</td>\n    </tr>\n    <tr>\n      <th>2</th>\n      <td>3</td>\n      <td>Manchester City FC</td>\n      <td>Etihad Stadium</td>\n      <td>Manchester</td>\n      <td>6</td>\n    </tr>\n    <tr>\n      <th>3</th>\n      <td>4</td>\n      <td>Chelsea FC</td>\n      <td>Stamford Bridge</td>\n      <td>London</td>\n      <td>6</td>\n    </tr>\n    <tr>\n      <th>4</th>\n      <td>5</td>\n      <td>Tottenham Hotspur FC</td>\n      <td>Tottenham Hotspur Stadium</td>\n      <td>London</td>\n      <td>2</td>\n    </tr>\n  </tbody>\n</table>\n</div>"
     },
     "metadata": {},
     "execution_count": 24
    }
   ],
   "source": [
    "ask_for_clubs = 'SELECT * FROM clubs'\n",
    "clubs = get_data(ask_for_clubs)\n",
    "clubs"
   ]
  },
  {
   "cell_type": "markdown",
   "metadata": {},
   "source": [
    "Notice that, although we didn't define the club_id value for any of the rows, SQL has automatically filled this field. \n",
    "\n",
    "## Ex. 6\n",
    "\n",
    "Let's see what happend if we try to \n",
    "\n",
    "\n"
   ]
  }
 ],
 "metadata": {
  "language_info": {
   "codemirror_mode": {
    "name": "ipython",
    "version": 3
   },
   "file_extension": ".py",
   "mimetype": "text/x-python",
   "name": "python",
   "nbconvert_exporter": "python",
   "pygments_lexer": "ipython3",
   "version": "3.8.1-final"
  },
  "orig_nbformat": 2,
  "kernelspec": {
   "name": "python38364bitsqlcondac46ff261eb2d405f8ac307a3c81d2935",
   "display_name": "Python 3.8.3 64-bit ('sql': conda)"
  }
 },
 "nbformat": 4,
 "nbformat_minor": 2
}