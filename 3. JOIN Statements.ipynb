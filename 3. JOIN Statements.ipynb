{
 "cells": [
  {
   "cell_type": "markdown",
   "metadata": {},
   "source": [
    "# JOIN Statements\n",
    "\n",
    "### In this notebook we study some use case examples of the JOIN statments. We use Python as our main programming language and make use of libraries such as Pandas ans Psycopg2 to present the results of the queries.\n",
    "\n",
    "### The JOIN statements helps us to combine rows from multiple tables.\n",
    "\n",
    "In order to start coding, we have call the pandas and psycopg2 libraries and create a connection to communicate with the database.In order to start coding, we have call the pandas and psycopg2 libraries and create a connection to communicate with the database.\n",
    "\n"
   ]
  },
  {
   "cell_type": "code",
   "execution_count": 15,
   "metadata": {},
   "outputs": [],
   "source": [
    "import pandas as pd\n",
    "import psycopg2 as pg2\n",
    "\n",
    "connection = pg2.connect(database = 'dvdrental', user = 'postgres', password = 'password')"
   ]
  },
  {
   "cell_type": "markdown",
   "metadata": {},
   "source": [
    "Just like in the prevous notebook, we´ll define the get_data function in order to prevent memory problems and to make our code more cleanJust like in the prevous notebook, we´ll define the get_data function in order to prevent memory problems and to make our code more clean"
   ]
  },
  {
   "cell_type": "code",
   "execution_count": 16,
   "metadata": {},
   "outputs": [],
   "source": [
    "def get_data(query, rows = 10):\n",
    "\n",
    "    with connection.cursor() as cursor:\n",
    "        cursor. execute(query)\n",
    "\n",
    "        if rows == 'all':\n",
    "            raw_data = cursor.fetchall()\n",
    "        else:\n",
    "            raw_data = cursor.fetchmany(rows) \n",
    "\n",
    "        col_names = [col_desc[0] for col_desc in cursor.description]\n",
    "        data = pd.DataFrame(raw_data, columns = col_names)\n",
    "\n",
    "    return data"
   ]
  },
  {
   "cell_type": "markdown",
   "metadata": {},
   "source": [
    "## INNER JOIN \n",
    "\n",
    "The INNER JOIN statement is used to create a new table by combining rows that have matching values in two or more tables. In other words, the INNER JOIN statment helps us to find a sort of intersection between to tables based on their values on a given column, putting together only the rows whose values on that given column appear in both tables.\n",
    "\n",
    "## Ex. 1\n",
    "\n",
    "Consider the payment table and the customer table, the customer_id column happens to be in both tables, therefore we can join these two tables on this column. Let's do this and see what result we get"
   ]
  },
  {
   "cell_type": "code",
   "execution_count": 17,
   "metadata": {},
   "outputs": [
    {
     "output_type": "execute_result",
     "data": {
      "text/plain": "   payment_id  customer_id  staff_id  rental_id amount  \\\n0       17503          341         2       1520   7.99   \n1       17504          341         1       1778   1.99   \n2       17505          341         1       1849   7.99   \n3       17506          341         2       2829   2.99   \n4       17507          341         2       3130   7.99   \n5       17508          341         1       3382   5.99   \n6       17509          342         2       2190   5.99   \n7       17510          342         1       2914   5.99   \n8       17511          342         1       3081   2.99   \n9       17512          343         2       1547   4.99   \n\n                payment_date  customer_id  store_id first_name last_name  \\\n0 2007-02-15 22:25:46.996577          341         1      Peter    Menard   \n1 2007-02-16 17:23:14.996577          341         1      Peter    Menard   \n2 2007-02-16 22:41:45.996577          341         1      Peter    Menard   \n3 2007-02-19 19:39:56.996577          341         1      Peter    Menard   \n4 2007-02-20 17:31:48.996577          341         1      Peter    Menard   \n5 2007-02-21 12:33:49.996577          341         1      Peter    Menard   \n6 2007-02-17 23:58:17.996577          342         1     Harold   Martino   \n7 2007-02-20 02:11:44.996577          342         1     Harold   Martino   \n8 2007-02-20 13:57:39.996577          342         1     Harold   Martino   \n9 2007-02-16 00:10:50.996577          343         1    Douglas      Graf   \n\n                               email  address_id  activebool create_date  \\\n0    peter.menard@sakilacustomer.org         346        True  2006-02-14   \n1    peter.menard@sakilacustomer.org         346        True  2006-02-14   \n2    peter.menard@sakilacustomer.org         346        True  2006-02-14   \n3    peter.menard@sakilacustomer.org         346        True  2006-02-14   \n4    peter.menard@sakilacustomer.org         346        True  2006-02-14   \n5    peter.menard@sakilacustomer.org         346        True  2006-02-14   \n6  harold.martino@sakilacustomer.org         347        True  2006-02-14   \n7  harold.martino@sakilacustomer.org         347        True  2006-02-14   \n8  harold.martino@sakilacustomer.org         347        True  2006-02-14   \n9    douglas.graf@sakilacustomer.org         348        True  2006-02-14   \n\n              last_update  active  \n0 2013-05-26 14:49:45.738       1  \n1 2013-05-26 14:49:45.738       1  \n2 2013-05-26 14:49:45.738       1  \n3 2013-05-26 14:49:45.738       1  \n4 2013-05-26 14:49:45.738       1  \n5 2013-05-26 14:49:45.738       1  \n6 2013-05-26 14:49:45.738       1  \n7 2013-05-26 14:49:45.738       1  \n8 2013-05-26 14:49:45.738       1  \n9 2013-05-26 14:49:45.738       1  ",
      "text/html": "<div>\n<style scoped>\n    .dataframe tbody tr th:only-of-type {\n        vertical-align: middle;\n    }\n\n    .dataframe tbody tr th {\n        vertical-align: top;\n    }\n\n    .dataframe thead th {\n        text-align: right;\n    }\n</style>\n<table border=\"1\" class=\"dataframe\">\n  <thead>\n    <tr style=\"text-align: right;\">\n      <th></th>\n      <th>payment_id</th>\n      <th>customer_id</th>\n      <th>staff_id</th>\n      <th>rental_id</th>\n      <th>amount</th>\n      <th>payment_date</th>\n      <th>customer_id</th>\n      <th>store_id</th>\n      <th>first_name</th>\n      <th>last_name</th>\n      <th>email</th>\n      <th>address_id</th>\n      <th>activebool</th>\n      <th>create_date</th>\n      <th>last_update</th>\n      <th>active</th>\n    </tr>\n  </thead>\n  <tbody>\n    <tr>\n      <th>0</th>\n      <td>17503</td>\n      <td>341</td>\n      <td>2</td>\n      <td>1520</td>\n      <td>7.99</td>\n      <td>2007-02-15 22:25:46.996577</td>\n      <td>341</td>\n      <td>1</td>\n      <td>Peter</td>\n      <td>Menard</td>\n      <td>peter.menard@sakilacustomer.org</td>\n      <td>346</td>\n      <td>True</td>\n      <td>2006-02-14</td>\n      <td>2013-05-26 14:49:45.738</td>\n      <td>1</td>\n    </tr>\n    <tr>\n      <th>1</th>\n      <td>17504</td>\n      <td>341</td>\n      <td>1</td>\n      <td>1778</td>\n      <td>1.99</td>\n      <td>2007-02-16 17:23:14.996577</td>\n      <td>341</td>\n      <td>1</td>\n      <td>Peter</td>\n      <td>Menard</td>\n      <td>peter.menard@sakilacustomer.org</td>\n      <td>346</td>\n      <td>True</td>\n      <td>2006-02-14</td>\n      <td>2013-05-26 14:49:45.738</td>\n      <td>1</td>\n    </tr>\n    <tr>\n      <th>2</th>\n      <td>17505</td>\n      <td>341</td>\n      <td>1</td>\n      <td>1849</td>\n      <td>7.99</td>\n      <td>2007-02-16 22:41:45.996577</td>\n      <td>341</td>\n      <td>1</td>\n      <td>Peter</td>\n      <td>Menard</td>\n      <td>peter.menard@sakilacustomer.org</td>\n      <td>346</td>\n      <td>True</td>\n      <td>2006-02-14</td>\n      <td>2013-05-26 14:49:45.738</td>\n      <td>1</td>\n    </tr>\n    <tr>\n      <th>3</th>\n      <td>17506</td>\n      <td>341</td>\n      <td>2</td>\n      <td>2829</td>\n      <td>2.99</td>\n      <td>2007-02-19 19:39:56.996577</td>\n      <td>341</td>\n      <td>1</td>\n      <td>Peter</td>\n      <td>Menard</td>\n      <td>peter.menard@sakilacustomer.org</td>\n      <td>346</td>\n      <td>True</td>\n      <td>2006-02-14</td>\n      <td>2013-05-26 14:49:45.738</td>\n      <td>1</td>\n    </tr>\n    <tr>\n      <th>4</th>\n      <td>17507</td>\n      <td>341</td>\n      <td>2</td>\n      <td>3130</td>\n      <td>7.99</td>\n      <td>2007-02-20 17:31:48.996577</td>\n      <td>341</td>\n      <td>1</td>\n      <td>Peter</td>\n      <td>Menard</td>\n      <td>peter.menard@sakilacustomer.org</td>\n      <td>346</td>\n      <td>True</td>\n      <td>2006-02-14</td>\n      <td>2013-05-26 14:49:45.738</td>\n      <td>1</td>\n    </tr>\n    <tr>\n      <th>5</th>\n      <td>17508</td>\n      <td>341</td>\n      <td>1</td>\n      <td>3382</td>\n      <td>5.99</td>\n      <td>2007-02-21 12:33:49.996577</td>\n      <td>341</td>\n      <td>1</td>\n      <td>Peter</td>\n      <td>Menard</td>\n      <td>peter.menard@sakilacustomer.org</td>\n      <td>346</td>\n      <td>True</td>\n      <td>2006-02-14</td>\n      <td>2013-05-26 14:49:45.738</td>\n      <td>1</td>\n    </tr>\n    <tr>\n      <th>6</th>\n      <td>17509</td>\n      <td>342</td>\n      <td>2</td>\n      <td>2190</td>\n      <td>5.99</td>\n      <td>2007-02-17 23:58:17.996577</td>\n      <td>342</td>\n      <td>1</td>\n      <td>Harold</td>\n      <td>Martino</td>\n      <td>harold.martino@sakilacustomer.org</td>\n      <td>347</td>\n      <td>True</td>\n      <td>2006-02-14</td>\n      <td>2013-05-26 14:49:45.738</td>\n      <td>1</td>\n    </tr>\n    <tr>\n      <th>7</th>\n      <td>17510</td>\n      <td>342</td>\n      <td>1</td>\n      <td>2914</td>\n      <td>5.99</td>\n      <td>2007-02-20 02:11:44.996577</td>\n      <td>342</td>\n      <td>1</td>\n      <td>Harold</td>\n      <td>Martino</td>\n      <td>harold.martino@sakilacustomer.org</td>\n      <td>347</td>\n      <td>True</td>\n      <td>2006-02-14</td>\n      <td>2013-05-26 14:49:45.738</td>\n      <td>1</td>\n    </tr>\n    <tr>\n      <th>8</th>\n      <td>17511</td>\n      <td>342</td>\n      <td>1</td>\n      <td>3081</td>\n      <td>2.99</td>\n      <td>2007-02-20 13:57:39.996577</td>\n      <td>342</td>\n      <td>1</td>\n      <td>Harold</td>\n      <td>Martino</td>\n      <td>harold.martino@sakilacustomer.org</td>\n      <td>347</td>\n      <td>True</td>\n      <td>2006-02-14</td>\n      <td>2013-05-26 14:49:45.738</td>\n      <td>1</td>\n    </tr>\n    <tr>\n      <th>9</th>\n      <td>17512</td>\n      <td>343</td>\n      <td>2</td>\n      <td>1547</td>\n      <td>4.99</td>\n      <td>2007-02-16 00:10:50.996577</td>\n      <td>343</td>\n      <td>1</td>\n      <td>Douglas</td>\n      <td>Graf</td>\n      <td>douglas.graf@sakilacustomer.org</td>\n      <td>348</td>\n      <td>True</td>\n      <td>2006-02-14</td>\n      <td>2013-05-26 14:49:45.738</td>\n      <td>1</td>\n    </tr>\n  </tbody>\n</table>\n</div>"
     },
     "metadata": {},
     "execution_count": 17
    }
   ],
   "source": [
    "query_1 = '''\n",
    "          SELECT *  \n",
    "          FROM payment INNER JOIN customer\n",
    "          ON payment.customer_id = customer.customer_id\n",
    "          '''\n",
    "items_in_customer_and_payment = get_data(query_1)\n",
    "items_in_customer_and_payment"
   ]
  },
  {
   "cell_type": "markdown",
   "metadata": {},
   "source": [
    "## Ex. 2\n",
    "\n",
    "In addition to the above, we can especify which columns to select from either table"
   ]
  },
  {
   "cell_type": "code",
   "execution_count": 18,
   "metadata": {},
   "outputs": [
    {
     "output_type": "execute_result",
     "data": {
      "text/plain": "   payment_id  customer_id first_name last_name\n0       17503          341      Peter    Menard\n1       17504          341      Peter    Menard\n2       17505          341      Peter    Menard\n3       17506          341      Peter    Menard\n4       17507          341      Peter    Menard\n5       17508          341      Peter    Menard\n6       17509          342     Harold   Martino\n7       17510          342     Harold   Martino\n8       17511          342     Harold   Martino\n9       17512          343    Douglas      Graf",
      "text/html": "<div>\n<style scoped>\n    .dataframe tbody tr th:only-of-type {\n        vertical-align: middle;\n    }\n\n    .dataframe tbody tr th {\n        vertical-align: top;\n    }\n\n    .dataframe thead th {\n        text-align: right;\n    }\n</style>\n<table border=\"1\" class=\"dataframe\">\n  <thead>\n    <tr style=\"text-align: right;\">\n      <th></th>\n      <th>payment_id</th>\n      <th>customer_id</th>\n      <th>first_name</th>\n      <th>last_name</th>\n    </tr>\n  </thead>\n  <tbody>\n    <tr>\n      <th>0</th>\n      <td>17503</td>\n      <td>341</td>\n      <td>Peter</td>\n      <td>Menard</td>\n    </tr>\n    <tr>\n      <th>1</th>\n      <td>17504</td>\n      <td>341</td>\n      <td>Peter</td>\n      <td>Menard</td>\n    </tr>\n    <tr>\n      <th>2</th>\n      <td>17505</td>\n      <td>341</td>\n      <td>Peter</td>\n      <td>Menard</td>\n    </tr>\n    <tr>\n      <th>3</th>\n      <td>17506</td>\n      <td>341</td>\n      <td>Peter</td>\n      <td>Menard</td>\n    </tr>\n    <tr>\n      <th>4</th>\n      <td>17507</td>\n      <td>341</td>\n      <td>Peter</td>\n      <td>Menard</td>\n    </tr>\n    <tr>\n      <th>5</th>\n      <td>17508</td>\n      <td>341</td>\n      <td>Peter</td>\n      <td>Menard</td>\n    </tr>\n    <tr>\n      <th>6</th>\n      <td>17509</td>\n      <td>342</td>\n      <td>Harold</td>\n      <td>Martino</td>\n    </tr>\n    <tr>\n      <th>7</th>\n      <td>17510</td>\n      <td>342</td>\n      <td>Harold</td>\n      <td>Martino</td>\n    </tr>\n    <tr>\n      <th>8</th>\n      <td>17511</td>\n      <td>342</td>\n      <td>Harold</td>\n      <td>Martino</td>\n    </tr>\n    <tr>\n      <th>9</th>\n      <td>17512</td>\n      <td>343</td>\n      <td>Douglas</td>\n      <td>Graf</td>\n    </tr>\n  </tbody>\n</table>\n</div>"
     },
     "metadata": {},
     "execution_count": 18
    }
   ],
   "source": [
    "query_2 = '''\n",
    "          SELECT payment_id, payment.customer_id, first_name, last_name \n",
    "          FROM payment INNER JOIN customer\n",
    "          ON payment.customer_id = customer.customer_id\n",
    "          '''\n",
    "items_in_customer_and_payment = get_data(query_2)\n",
    "items_in_customer_and_payment"
   ]
  },
  {
   "cell_type": "markdown",
   "metadata": {},
   "source": [
    "Notice that, when the tables happen to contain a column with the same name, we use the syntax table.column_name to specify form what tale we want to grab the column named column_name.\n",
    "\n",
    "## FULL OUTER JOIN Statement\n",
    "\n",
    "The FULL OUTER JOUN Statement grabs all the rows form both tables, whether their values match or not. When the values in the selected fieds match, the statement will deal with those reow in the excact same way than the INNER JOIN statement. But what happens to the unmatched rows, let's say we want to FULL OUTER JOIN table A with table B, supose that there are umatched rows form table A, in this case, at te moment of incluiding these rows in the output data SQL will fill the missing values, corresponding to table B columns, with NULL values. An analogous procedure occurs in the opposite case. \n",
    "\n",
    "## Ex 3.\n",
    "\n",
    "Let's repeat example 1, but now using the FULL OUTER JOIN statement"
   ]
  },
  {
   "cell_type": "code",
   "execution_count": 25,
   "metadata": {},
   "outputs": [
    {
     "output_type": "execute_result",
     "data": {
      "text/plain": "       payment_id  customer_id  staff_id  rental_id amount  \\\n0           17503          341         2       1520   7.99   \n1           17504          341         1       1778   1.99   \n2           17505          341         1       1849   7.99   \n3           17506          341         2       2829   2.99   \n4           17507          341         2       3130   7.99   \n...           ...          ...       ...        ...    ...   \n14591       32094          245         2      12682   2.99   \n14592       32095          251         1      14107   0.99   \n14593       32096          252         2      13756   4.99   \n14594       32097          263         1      15293   0.99   \n14595       32098          264         2      14243   2.99   \n\n                    payment_date  customer_id  store_id first_name last_name  \\\n0     2007-02-15 22:25:46.996577          341         1      Peter    Menard   \n1     2007-02-16 17:23:14.996577          341         1      Peter    Menard   \n2     2007-02-16 22:41:45.996577          341         1      Peter    Menard   \n3     2007-02-19 19:39:56.996577          341         1      Peter    Menard   \n4     2007-02-20 17:31:48.996577          341         1      Peter    Menard   \n...                          ...          ...       ...        ...       ...   \n14591 2007-05-14 13:44:29.996577          245         1   Courtney       Day   \n14592 2007-05-14 13:44:29.996577          251         2     Vickie    Brewer   \n14593 2007-05-14 13:44:29.996577          252         2     Mattie   Hoffman   \n14594 2007-05-14 13:44:29.996577          263         1      Hilda   Hopkins   \n14595 2007-05-14 13:44:29.996577          264         1  Gwendolyn       May   \n\n                                   email  address_id  activebool create_date  \\\n0        peter.menard@sakilacustomer.org         346        True  2006-02-14   \n1        peter.menard@sakilacustomer.org         346        True  2006-02-14   \n2        peter.menard@sakilacustomer.org         346        True  2006-02-14   \n3        peter.menard@sakilacustomer.org         346        True  2006-02-14   \n4        peter.menard@sakilacustomer.org         346        True  2006-02-14   \n...                                  ...         ...         ...         ...   \n14591    courtney.day@sakilacustomer.org         249        True  2006-02-14   \n14592   vickie.brewer@sakilacustomer.org         255        True  2006-02-14   \n14593  mattie.hoffman@sakilacustomer.org         256        True  2006-02-14   \n14594   hilda.hopkins@sakilacustomer.org         268        True  2006-02-14   \n14595   gwendolyn.may@sakilacustomer.org         269        True  2006-02-14   \n\n                  last_update  active  \n0     2013-05-26 14:49:45.738       1  \n1     2013-05-26 14:49:45.738       1  \n2     2013-05-26 14:49:45.738       1  \n3     2013-05-26 14:49:45.738       1  \n4     2013-05-26 14:49:45.738       1  \n...                       ...     ...  \n14591 2013-05-26 14:49:45.738       1  \n14592 2013-05-26 14:49:45.738       1  \n14593 2013-05-26 14:49:45.738       1  \n14594 2013-05-26 14:49:45.738       1  \n14595 2013-05-26 14:49:45.738       1  \n\n[14596 rows x 16 columns]",
      "text/html": "<div>\n<style scoped>\n    .dataframe tbody tr th:only-of-type {\n        vertical-align: middle;\n    }\n\n    .dataframe tbody tr th {\n        vertical-align: top;\n    }\n\n    .dataframe thead th {\n        text-align: right;\n    }\n</style>\n<table border=\"1\" class=\"dataframe\">\n  <thead>\n    <tr style=\"text-align: right;\">\n      <th></th>\n      <th>payment_id</th>\n      <th>customer_id</th>\n      <th>staff_id</th>\n      <th>rental_id</th>\n      <th>amount</th>\n      <th>payment_date</th>\n      <th>customer_id</th>\n      <th>store_id</th>\n      <th>first_name</th>\n      <th>last_name</th>\n      <th>email</th>\n      <th>address_id</th>\n      <th>activebool</th>\n      <th>create_date</th>\n      <th>last_update</th>\n      <th>active</th>\n    </tr>\n  </thead>\n  <tbody>\n    <tr>\n      <th>0</th>\n      <td>17503</td>\n      <td>341</td>\n      <td>2</td>\n      <td>1520</td>\n      <td>7.99</td>\n      <td>2007-02-15 22:25:46.996577</td>\n      <td>341</td>\n      <td>1</td>\n      <td>Peter</td>\n      <td>Menard</td>\n      <td>peter.menard@sakilacustomer.org</td>\n      <td>346</td>\n      <td>True</td>\n      <td>2006-02-14</td>\n      <td>2013-05-26 14:49:45.738</td>\n      <td>1</td>\n    </tr>\n    <tr>\n      <th>1</th>\n      <td>17504</td>\n      <td>341</td>\n      <td>1</td>\n      <td>1778</td>\n      <td>1.99</td>\n      <td>2007-02-16 17:23:14.996577</td>\n      <td>341</td>\n      <td>1</td>\n      <td>Peter</td>\n      <td>Menard</td>\n      <td>peter.menard@sakilacustomer.org</td>\n      <td>346</td>\n      <td>True</td>\n      <td>2006-02-14</td>\n      <td>2013-05-26 14:49:45.738</td>\n      <td>1</td>\n    </tr>\n    <tr>\n      <th>2</th>\n      <td>17505</td>\n      <td>341</td>\n      <td>1</td>\n      <td>1849</td>\n      <td>7.99</td>\n      <td>2007-02-16 22:41:45.996577</td>\n      <td>341</td>\n      <td>1</td>\n      <td>Peter</td>\n      <td>Menard</td>\n      <td>peter.menard@sakilacustomer.org</td>\n      <td>346</td>\n      <td>True</td>\n      <td>2006-02-14</td>\n      <td>2013-05-26 14:49:45.738</td>\n      <td>1</td>\n    </tr>\n    <tr>\n      <th>3</th>\n      <td>17506</td>\n      <td>341</td>\n      <td>2</td>\n      <td>2829</td>\n      <td>2.99</td>\n      <td>2007-02-19 19:39:56.996577</td>\n      <td>341</td>\n      <td>1</td>\n      <td>Peter</td>\n      <td>Menard</td>\n      <td>peter.menard@sakilacustomer.org</td>\n      <td>346</td>\n      <td>True</td>\n      <td>2006-02-14</td>\n      <td>2013-05-26 14:49:45.738</td>\n      <td>1</td>\n    </tr>\n    <tr>\n      <th>4</th>\n      <td>17507</td>\n      <td>341</td>\n      <td>2</td>\n      <td>3130</td>\n      <td>7.99</td>\n      <td>2007-02-20 17:31:48.996577</td>\n      <td>341</td>\n      <td>1</td>\n      <td>Peter</td>\n      <td>Menard</td>\n      <td>peter.menard@sakilacustomer.org</td>\n      <td>346</td>\n      <td>True</td>\n      <td>2006-02-14</td>\n      <td>2013-05-26 14:49:45.738</td>\n      <td>1</td>\n    </tr>\n    <tr>\n      <th>...</th>\n      <td>...</td>\n      <td>...</td>\n      <td>...</td>\n      <td>...</td>\n      <td>...</td>\n      <td>...</td>\n      <td>...</td>\n      <td>...</td>\n      <td>...</td>\n      <td>...</td>\n      <td>...</td>\n      <td>...</td>\n      <td>...</td>\n      <td>...</td>\n      <td>...</td>\n      <td>...</td>\n    </tr>\n    <tr>\n      <th>14591</th>\n      <td>32094</td>\n      <td>245</td>\n      <td>2</td>\n      <td>12682</td>\n      <td>2.99</td>\n      <td>2007-05-14 13:44:29.996577</td>\n      <td>245</td>\n      <td>1</td>\n      <td>Courtney</td>\n      <td>Day</td>\n      <td>courtney.day@sakilacustomer.org</td>\n      <td>249</td>\n      <td>True</td>\n      <td>2006-02-14</td>\n      <td>2013-05-26 14:49:45.738</td>\n      <td>1</td>\n    </tr>\n    <tr>\n      <th>14592</th>\n      <td>32095</td>\n      <td>251</td>\n      <td>1</td>\n      <td>14107</td>\n      <td>0.99</td>\n      <td>2007-05-14 13:44:29.996577</td>\n      <td>251</td>\n      <td>2</td>\n      <td>Vickie</td>\n      <td>Brewer</td>\n      <td>vickie.brewer@sakilacustomer.org</td>\n      <td>255</td>\n      <td>True</td>\n      <td>2006-02-14</td>\n      <td>2013-05-26 14:49:45.738</td>\n      <td>1</td>\n    </tr>\n    <tr>\n      <th>14593</th>\n      <td>32096</td>\n      <td>252</td>\n      <td>2</td>\n      <td>13756</td>\n      <td>4.99</td>\n      <td>2007-05-14 13:44:29.996577</td>\n      <td>252</td>\n      <td>2</td>\n      <td>Mattie</td>\n      <td>Hoffman</td>\n      <td>mattie.hoffman@sakilacustomer.org</td>\n      <td>256</td>\n      <td>True</td>\n      <td>2006-02-14</td>\n      <td>2013-05-26 14:49:45.738</td>\n      <td>1</td>\n    </tr>\n    <tr>\n      <th>14594</th>\n      <td>32097</td>\n      <td>263</td>\n      <td>1</td>\n      <td>15293</td>\n      <td>0.99</td>\n      <td>2007-05-14 13:44:29.996577</td>\n      <td>263</td>\n      <td>1</td>\n      <td>Hilda</td>\n      <td>Hopkins</td>\n      <td>hilda.hopkins@sakilacustomer.org</td>\n      <td>268</td>\n      <td>True</td>\n      <td>2006-02-14</td>\n      <td>2013-05-26 14:49:45.738</td>\n      <td>1</td>\n    </tr>\n    <tr>\n      <th>14595</th>\n      <td>32098</td>\n      <td>264</td>\n      <td>2</td>\n      <td>14243</td>\n      <td>2.99</td>\n      <td>2007-05-14 13:44:29.996577</td>\n      <td>264</td>\n      <td>1</td>\n      <td>Gwendolyn</td>\n      <td>May</td>\n      <td>gwendolyn.may@sakilacustomer.org</td>\n      <td>269</td>\n      <td>True</td>\n      <td>2006-02-14</td>\n      <td>2013-05-26 14:49:45.738</td>\n      <td>1</td>\n    </tr>\n  </tbody>\n</table>\n<p>14596 rows × 16 columns</p>\n</div>"
     },
     "metadata": {},
     "execution_count": 25
    }
   ],
   "source": [
    "query_3 = '''\n",
    "          SELECT * \n",
    "          FROM payment FULL OUTER JOIN customer\n",
    "          ON payment.customer_id = customer.customer_id\n",
    "          '''\n",
    "customer_and_payment = get_data(query_3, rows = 'all')\n",
    "customer_and_payment"
   ]
  },
  {
   "cell_type": "code",
   "execution_count": null,
   "metadata": {},
   "outputs": [],
   "source": []
  }
 ],
 "metadata": {
  "language_info": {
   "codemirror_mode": {
    "name": "ipython",
    "version": 3
   },
   "file_extension": ".py",
   "mimetype": "text/x-python",
   "name": "python",
   "nbconvert_exporter": "python",
   "pygments_lexer": "ipython3",
   "version": "3.8.1-final"
  },
  "orig_nbformat": 2,
  "kernelspec": {
   "name": "python38364bitsqlcondac46ff261eb2d405f8ac307a3c81d2935",
   "display_name": "Python 3.8.3 64-bit ('sql': conda)"
  }
 },
 "nbformat": 4,
 "nbformat_minor": 2
}