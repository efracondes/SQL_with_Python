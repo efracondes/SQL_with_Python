{
 "cells": [
  {
   "cell_type": "markdown",
   "metadata": {},
   "source": [
    "# Basic Statements\n",
    "\n",
    "### In this notebook we study some use case examples for the most simple SQL statments. We use Python as our main programming language and make use of libraires such as Pandas ans Psycopg2 to present the result of the queries.\n",
    "\n",
    "First, we call the pandas and psycopg2 libraries"
   ]
  },
  {
   "cell_type": "code",
   "execution_count": 1,
   "metadata": {},
   "outputs": [],
   "source": [
    "import pandas as pd\n",
    "import psycopg2 as pg2"
   ]
  },
  {
   "cell_type": "markdown",
   "metadata": {},
   "source": [
    "We need to create a connection object, which will allow us to comunicate with the data base."
   ]
  },
  {
   "cell_type": "code",
   "execution_count": 2,
   "metadata": {},
   "outputs": [],
   "source": [
    "connection = pg2.connect(database = 'dvdrental', user = 'postgres', password = 'password')"
   ]
  },
  {
   "cell_type": "markdown",
   "metadata": {},
   "source": [
    "In order to present the results in a clearer manner we define the next function, whichs make use of the connection object. This function receives the SQL query and returns the result in a pandas DataFrame object. We can also especify, via the rows argument, the number of rows to be returned, by default the function returns ten rows. Given that this notebook is just for demostrative purposes, we decide to display a little subset of the tables to avoid memory issues."
   ]
  },
  {
   "cell_type": "code",
   "execution_count": 3,
   "metadata": {},
   "outputs": [],
   "source": [
    "def get_data(query, rows = 10):\n",
    "\n",
    "    with connection.cursor() as cursor:\n",
    "        cursor. execute(query)\n",
    "\n",
    "        if rows == 'all':\n",
    "            raw_data = cursor.fetchall()\n",
    "        else:\n",
    "            raw_data = cursor.fetchmany(rows) \n",
    "\n",
    "        col_names = [col_desc[0] for col_desc in cursor.description]\n",
    "        data = pd.DataFrame(raw_data, columns = col_names)\n",
    "\n",
    "    return data"
   ]
  },
  {
   "cell_type": "markdown",
   "metadata": {},
   "source": [
    "# SELECT Statement\n",
    "\n",
    "## Ex. 1\n",
    "\n",
    "As our first example, we'll ask for the actor table form the database."
   ]
  },
  {
   "cell_type": "code",
   "execution_count": 4,
   "metadata": {},
   "outputs": [
    {
     "output_type": "execute_result",
     "data": {
      "text/plain": "   actor_id first_name     last_name             last_update\n0         1   Penelope       Guiness 2013-05-26 14:47:57.620\n1         2       Nick      Wahlberg 2013-05-26 14:47:57.620\n2         3         Ed         Chase 2013-05-26 14:47:57.620\n3         4   Jennifer         Davis 2013-05-26 14:47:57.620\n4         5     Johnny  Lollobrigida 2013-05-26 14:47:57.620\n5         6      Bette     Nicholson 2013-05-26 14:47:57.620\n6         7      Grace        Mostel 2013-05-26 14:47:57.620\n7         8    Matthew     Johansson 2013-05-26 14:47:57.620\n8         9        Joe         Swank 2013-05-26 14:47:57.620\n9        10  Christian         Gable 2013-05-26 14:47:57.620",
      "text/html": "<div>\n<style scoped>\n    .dataframe tbody tr th:only-of-type {\n        vertical-align: middle;\n    }\n\n    .dataframe tbody tr th {\n        vertical-align: top;\n    }\n\n    .dataframe thead th {\n        text-align: right;\n    }\n</style>\n<table border=\"1\" class=\"dataframe\">\n  <thead>\n    <tr style=\"text-align: right;\">\n      <th></th>\n      <th>actor_id</th>\n      <th>first_name</th>\n      <th>last_name</th>\n      <th>last_update</th>\n    </tr>\n  </thead>\n  <tbody>\n    <tr>\n      <th>0</th>\n      <td>1</td>\n      <td>Penelope</td>\n      <td>Guiness</td>\n      <td>2013-05-26 14:47:57.620</td>\n    </tr>\n    <tr>\n      <th>1</th>\n      <td>2</td>\n      <td>Nick</td>\n      <td>Wahlberg</td>\n      <td>2013-05-26 14:47:57.620</td>\n    </tr>\n    <tr>\n      <th>2</th>\n      <td>3</td>\n      <td>Ed</td>\n      <td>Chase</td>\n      <td>2013-05-26 14:47:57.620</td>\n    </tr>\n    <tr>\n      <th>3</th>\n      <td>4</td>\n      <td>Jennifer</td>\n      <td>Davis</td>\n      <td>2013-05-26 14:47:57.620</td>\n    </tr>\n    <tr>\n      <th>4</th>\n      <td>5</td>\n      <td>Johnny</td>\n      <td>Lollobrigida</td>\n      <td>2013-05-26 14:47:57.620</td>\n    </tr>\n    <tr>\n      <th>5</th>\n      <td>6</td>\n      <td>Bette</td>\n      <td>Nicholson</td>\n      <td>2013-05-26 14:47:57.620</td>\n    </tr>\n    <tr>\n      <th>6</th>\n      <td>7</td>\n      <td>Grace</td>\n      <td>Mostel</td>\n      <td>2013-05-26 14:47:57.620</td>\n    </tr>\n    <tr>\n      <th>7</th>\n      <td>8</td>\n      <td>Matthew</td>\n      <td>Johansson</td>\n      <td>2013-05-26 14:47:57.620</td>\n    </tr>\n    <tr>\n      <th>8</th>\n      <td>9</td>\n      <td>Joe</td>\n      <td>Swank</td>\n      <td>2013-05-26 14:47:57.620</td>\n    </tr>\n    <tr>\n      <th>9</th>\n      <td>10</td>\n      <td>Christian</td>\n      <td>Gable</td>\n      <td>2013-05-26 14:47:57.620</td>\n    </tr>\n  </tbody>\n</table>\n</div>"
     },
     "metadata": {},
     "execution_count": 4
    }
   ],
   "source": [
    "query_1 = 'SELECT * FROM actor'\n",
    "actor_table = get_data(query_1)\n",
    "\n",
    "actor_table"
   ]
  },
  {
   "cell_type": "markdown",
   "metadata": {},
   "source": [
    "## Ex. 2\n",
    "\n",
    "We can grab only a subset of columns out of the table. "
   ]
  },
  {
   "cell_type": "code",
   "execution_count": 5,
   "metadata": {},
   "outputs": [
    {
     "output_type": "execute_result",
     "data": {
      "text/plain": "  first_name  actor_id\n0   Penelope         1\n1       Nick         2\n2         Ed         3\n3   Jennifer         4\n4     Johnny         5\n5      Bette         6\n6      Grace         7\n7    Matthew         8\n8        Joe         9\n9  Christian        10",
      "text/html": "<div>\n<style scoped>\n    .dataframe tbody tr th:only-of-type {\n        vertical-align: middle;\n    }\n\n    .dataframe tbody tr th {\n        vertical-align: top;\n    }\n\n    .dataframe thead th {\n        text-align: right;\n    }\n</style>\n<table border=\"1\" class=\"dataframe\">\n  <thead>\n    <tr style=\"text-align: right;\">\n      <th></th>\n      <th>first_name</th>\n      <th>actor_id</th>\n    </tr>\n  </thead>\n  <tbody>\n    <tr>\n      <th>0</th>\n      <td>Penelope</td>\n      <td>1</td>\n    </tr>\n    <tr>\n      <th>1</th>\n      <td>Nick</td>\n      <td>2</td>\n    </tr>\n    <tr>\n      <th>2</th>\n      <td>Ed</td>\n      <td>3</td>\n    </tr>\n    <tr>\n      <th>3</th>\n      <td>Jennifer</td>\n      <td>4</td>\n    </tr>\n    <tr>\n      <th>4</th>\n      <td>Johnny</td>\n      <td>5</td>\n    </tr>\n    <tr>\n      <th>5</th>\n      <td>Bette</td>\n      <td>6</td>\n    </tr>\n    <tr>\n      <th>6</th>\n      <td>Grace</td>\n      <td>7</td>\n    </tr>\n    <tr>\n      <th>7</th>\n      <td>Matthew</td>\n      <td>8</td>\n    </tr>\n    <tr>\n      <th>8</th>\n      <td>Joe</td>\n      <td>9</td>\n    </tr>\n    <tr>\n      <th>9</th>\n      <td>Christian</td>\n      <td>10</td>\n    </tr>\n  </tbody>\n</table>\n</div>"
     },
     "metadata": {},
     "execution_count": 5
    }
   ],
   "source": [
    "query_2 = 'SELECT first_name, actor_id FROM actor'\n",
    "two_columns = get_data(query_2)\n",
    "\n",
    "two_columns"
   ]
  },
  {
   "cell_type": "markdown",
   "metadata": {},
   "source": [
    "# DISTINCT \n",
    "\n",
    "## Ex 3.\n",
    "\n",
    "It may be the case that we'd like to list only the distinct vlaues in a certain column, we can use the DISTINCT keyword to fullfil this task. Suppose we'd want to know the different category_ids of the movies that are in the film database, to respond to this question we can use the following code "
   ]
  },
  {
   "cell_type": "code",
   "execution_count": 6,
   "metadata": {},
   "outputs": [
    {
     "output_type": "execute_result",
     "data": {
      "text/plain": "   category_id\n0            4\n1           14\n2            3\n3           10\n4            7\n5           13\n6            9\n7            1\n8            5\n9            2",
      "text/html": "<div>\n<style scoped>\n    .dataframe tbody tr th:only-of-type {\n        vertical-align: middle;\n    }\n\n    .dataframe tbody tr th {\n        vertical-align: top;\n    }\n\n    .dataframe thead th {\n        text-align: right;\n    }\n</style>\n<table border=\"1\" class=\"dataframe\">\n  <thead>\n    <tr style=\"text-align: right;\">\n      <th></th>\n      <th>category_id</th>\n    </tr>\n  </thead>\n  <tbody>\n    <tr>\n      <th>0</th>\n      <td>4</td>\n    </tr>\n    <tr>\n      <th>1</th>\n      <td>14</td>\n    </tr>\n    <tr>\n      <th>2</th>\n      <td>3</td>\n    </tr>\n    <tr>\n      <th>3</th>\n      <td>10</td>\n    </tr>\n    <tr>\n      <th>4</th>\n      <td>7</td>\n    </tr>\n    <tr>\n      <th>5</th>\n      <td>13</td>\n    </tr>\n    <tr>\n      <th>6</th>\n      <td>9</td>\n    </tr>\n    <tr>\n      <th>7</th>\n      <td>1</td>\n    </tr>\n    <tr>\n      <th>8</th>\n      <td>5</td>\n    </tr>\n    <tr>\n      <th>9</th>\n      <td>2</td>\n    </tr>\n  </tbody>\n</table>\n</div>"
     },
     "metadata": {},
     "execution_count": 6
    }
   ],
   "source": [
    "query_3 = 'SELECT DISTINCT(category_id) FROM film_category'\n",
    "movie_categories = get_data(query_3)\n",
    "\n",
    "movie_categories"
   ]
  },
  {
   "cell_type": "markdown",
   "metadata": {},
   "source": [
    "# COUNT Function \n",
    "\n",
    "The count function simply returns back the number of rows in a table.\n",
    "\n",
    "## Ex. 4\n",
    "\n",
    "Using the COUNT function we can calculate how many movies are in our database. "
   ]
  },
  {
   "cell_type": "code",
   "execution_count": 7,
   "metadata": {},
   "outputs": [
    {
     "output_type": "execute_result",
     "data": {
      "text/plain": "   count\n0   1000",
      "text/html": "<div>\n<style scoped>\n    .dataframe tbody tr th:only-of-type {\n        vertical-align: middle;\n    }\n\n    .dataframe tbody tr th {\n        vertical-align: top;\n    }\n\n    .dataframe thead th {\n        text-align: right;\n    }\n</style>\n<table border=\"1\" class=\"dataframe\">\n  <thead>\n    <tr style=\"text-align: right;\">\n      <th></th>\n      <th>count</th>\n    </tr>\n  </thead>\n  <tbody>\n    <tr>\n      <th>0</th>\n      <td>1000</td>\n    </tr>\n  </tbody>\n</table>\n</div>"
     },
     "metadata": {},
     "execution_count": 7
    }
   ],
   "source": [
    "query_4 = 'SELECT COUNT(film_id) FROM film'\n",
    "amount_movies = get_data(query_4)\n",
    "\n",
    "amount_movies"
   ]
  },
  {
   "cell_type": "markdown",
   "metadata": {},
   "source": [
    "## Ex. 5 \n",
    "\n",
    "Now we can not only know the distinct movie category_ids, but also calculate the amount the number of categories with a simple query."
   ]
  },
  {
   "cell_type": "code",
   "execution_count": 8,
   "metadata": {},
   "outputs": [
    {
     "output_type": "execute_result",
     "data": {
      "text/plain": "   count\n0     16",
      "text/html": "<div>\n<style scoped>\n    .dataframe tbody tr th:only-of-type {\n        vertical-align: middle;\n    }\n\n    .dataframe tbody tr th {\n        vertical-align: top;\n    }\n\n    .dataframe thead th {\n        text-align: right;\n    }\n</style>\n<table border=\"1\" class=\"dataframe\">\n  <thead>\n    <tr style=\"text-align: right;\">\n      <th></th>\n      <th>count</th>\n    </tr>\n  </thead>\n  <tbody>\n    <tr>\n      <th>0</th>\n      <td>16</td>\n    </tr>\n  </tbody>\n</table>\n</div>"
     },
     "metadata": {},
     "execution_count": 8
    }
   ],
   "source": [
    "query_5 = 'SELECT COUNT(DISTINCT(category_id)) FROM film_category'\n",
    "amount_categories = get_data(query_5)\n",
    "\n",
    "amount_categories"
   ]
  },
  {
   "cell_type": "code",
   "execution_count": null,
   "metadata": {},
   "outputs": [],
   "source": []
  },
  {
   "cell_type": "markdown",
   "metadata": {},
   "source": [
    "# WHERE Statement\n",
    "\n",
    "The WHERE statemenr allows us tu specify conditions on the data to be returned.\n",
    "\n",
    "## Ex. 6\n",
    "\n",
    "For example, we could be interested in getting the information contained in the cutomer table but only for the active customers"
   ]
  },
  {
   "cell_type": "code",
   "execution_count": 9,
   "metadata": {},
   "outputs": [
    {
     "output_type": "execute_result",
     "data": {
      "text/plain": "   customer_id  store_id first_name last_name  \\\n0          524         1      Jared       Ely   \n1            1         1       Mary     Smith   \n2            2         1   Patricia   Johnson   \n3            3         1      Linda  Williams   \n4            4         2    Barbara     Jones   \n5            5         1  Elizabeth     Brown   \n6            6         2   Jennifer     Davis   \n7            7         1      Maria    Miller   \n8            8         2      Susan    Wilson   \n9            9         2   Margaret     Moore   \n\n                                 email  address_id  activebool create_date  \\\n0         jared.ely@sakilacustomer.org         530        True  2006-02-14   \n1        mary.smith@sakilacustomer.org           5        True  2006-02-14   \n2  patricia.johnson@sakilacustomer.org           6        True  2006-02-14   \n3    linda.williams@sakilacustomer.org           7        True  2006-02-14   \n4     barbara.jones@sakilacustomer.org           8        True  2006-02-14   \n5   elizabeth.brown@sakilacustomer.org           9        True  2006-02-14   \n6    jennifer.davis@sakilacustomer.org          10        True  2006-02-14   \n7      maria.miller@sakilacustomer.org          11        True  2006-02-14   \n8      susan.wilson@sakilacustomer.org          12        True  2006-02-14   \n9    margaret.moore@sakilacustomer.org          13        True  2006-02-14   \n\n              last_update  active  \n0 2013-05-26 14:49:45.738       1  \n1 2013-05-26 14:49:45.738       1  \n2 2013-05-26 14:49:45.738       1  \n3 2013-05-26 14:49:45.738       1  \n4 2013-05-26 14:49:45.738       1  \n5 2013-05-26 14:49:45.738       1  \n6 2013-05-26 14:49:45.738       1  \n7 2013-05-26 14:49:45.738       1  \n8 2013-05-26 14:49:45.738       1  \n9 2013-05-26 14:49:45.738       1  ",
      "text/html": "<div>\n<style scoped>\n    .dataframe tbody tr th:only-of-type {\n        vertical-align: middle;\n    }\n\n    .dataframe tbody tr th {\n        vertical-align: top;\n    }\n\n    .dataframe thead th {\n        text-align: right;\n    }\n</style>\n<table border=\"1\" class=\"dataframe\">\n  <thead>\n    <tr style=\"text-align: right;\">\n      <th></th>\n      <th>customer_id</th>\n      <th>store_id</th>\n      <th>first_name</th>\n      <th>last_name</th>\n      <th>email</th>\n      <th>address_id</th>\n      <th>activebool</th>\n      <th>create_date</th>\n      <th>last_update</th>\n      <th>active</th>\n    </tr>\n  </thead>\n  <tbody>\n    <tr>\n      <th>0</th>\n      <td>524</td>\n      <td>1</td>\n      <td>Jared</td>\n      <td>Ely</td>\n      <td>jared.ely@sakilacustomer.org</td>\n      <td>530</td>\n      <td>True</td>\n      <td>2006-02-14</td>\n      <td>2013-05-26 14:49:45.738</td>\n      <td>1</td>\n    </tr>\n    <tr>\n      <th>1</th>\n      <td>1</td>\n      <td>1</td>\n      <td>Mary</td>\n      <td>Smith</td>\n      <td>mary.smith@sakilacustomer.org</td>\n      <td>5</td>\n      <td>True</td>\n      <td>2006-02-14</td>\n      <td>2013-05-26 14:49:45.738</td>\n      <td>1</td>\n    </tr>\n    <tr>\n      <th>2</th>\n      <td>2</td>\n      <td>1</td>\n      <td>Patricia</td>\n      <td>Johnson</td>\n      <td>patricia.johnson@sakilacustomer.org</td>\n      <td>6</td>\n      <td>True</td>\n      <td>2006-02-14</td>\n      <td>2013-05-26 14:49:45.738</td>\n      <td>1</td>\n    </tr>\n    <tr>\n      <th>3</th>\n      <td>3</td>\n      <td>1</td>\n      <td>Linda</td>\n      <td>Williams</td>\n      <td>linda.williams@sakilacustomer.org</td>\n      <td>7</td>\n      <td>True</td>\n      <td>2006-02-14</td>\n      <td>2013-05-26 14:49:45.738</td>\n      <td>1</td>\n    </tr>\n    <tr>\n      <th>4</th>\n      <td>4</td>\n      <td>2</td>\n      <td>Barbara</td>\n      <td>Jones</td>\n      <td>barbara.jones@sakilacustomer.org</td>\n      <td>8</td>\n      <td>True</td>\n      <td>2006-02-14</td>\n      <td>2013-05-26 14:49:45.738</td>\n      <td>1</td>\n    </tr>\n    <tr>\n      <th>5</th>\n      <td>5</td>\n      <td>1</td>\n      <td>Elizabeth</td>\n      <td>Brown</td>\n      <td>elizabeth.brown@sakilacustomer.org</td>\n      <td>9</td>\n      <td>True</td>\n      <td>2006-02-14</td>\n      <td>2013-05-26 14:49:45.738</td>\n      <td>1</td>\n    </tr>\n    <tr>\n      <th>6</th>\n      <td>6</td>\n      <td>2</td>\n      <td>Jennifer</td>\n      <td>Davis</td>\n      <td>jennifer.davis@sakilacustomer.org</td>\n      <td>10</td>\n      <td>True</td>\n      <td>2006-02-14</td>\n      <td>2013-05-26 14:49:45.738</td>\n      <td>1</td>\n    </tr>\n    <tr>\n      <th>7</th>\n      <td>7</td>\n      <td>1</td>\n      <td>Maria</td>\n      <td>Miller</td>\n      <td>maria.miller@sakilacustomer.org</td>\n      <td>11</td>\n      <td>True</td>\n      <td>2006-02-14</td>\n      <td>2013-05-26 14:49:45.738</td>\n      <td>1</td>\n    </tr>\n    <tr>\n      <th>8</th>\n      <td>8</td>\n      <td>2</td>\n      <td>Susan</td>\n      <td>Wilson</td>\n      <td>susan.wilson@sakilacustomer.org</td>\n      <td>12</td>\n      <td>True</td>\n      <td>2006-02-14</td>\n      <td>2013-05-26 14:49:45.738</td>\n      <td>1</td>\n    </tr>\n    <tr>\n      <th>9</th>\n      <td>9</td>\n      <td>2</td>\n      <td>Margaret</td>\n      <td>Moore</td>\n      <td>margaret.moore@sakilacustomer.org</td>\n      <td>13</td>\n      <td>True</td>\n      <td>2006-02-14</td>\n      <td>2013-05-26 14:49:45.738</td>\n      <td>1</td>\n    </tr>\n  </tbody>\n</table>\n</div>"
     },
     "metadata": {},
     "execution_count": 9
    }
   ],
   "source": [
    "query_6 = '''\n",
    "          SELECT * FROM customer\n",
    "          WHERE active = 1\n",
    "          '''\n",
    "\n",
    "active_costumers = get_data(query_6)\n",
    "active_costumers"
   ]
  },
  {
   "cell_type": "markdown",
   "metadata": {},
   "source": [
    "## Ex. 7\n",
    "We can also count the number of active costumers"
   ]
  },
  {
   "cell_type": "code",
   "execution_count": 10,
   "metadata": {},
   "outputs": [
    {
     "output_type": "execute_result",
     "data": {
      "text/plain": "   count\n0    584",
      "text/html": "<div>\n<style scoped>\n    .dataframe tbody tr th:only-of-type {\n        vertical-align: middle;\n    }\n\n    .dataframe tbody tr th {\n        vertical-align: top;\n    }\n\n    .dataframe thead th {\n        text-align: right;\n    }\n</style>\n<table border=\"1\" class=\"dataframe\">\n  <thead>\n    <tr style=\"text-align: right;\">\n      <th></th>\n      <th>count</th>\n    </tr>\n  </thead>\n  <tbody>\n    <tr>\n      <th>0</th>\n      <td>584</td>\n    </tr>\n  </tbody>\n</table>\n</div>"
     },
     "metadata": {},
     "execution_count": 10
    }
   ],
   "source": [
    "query_7 = '''\n",
    "          SELECT COUNT(*) FROM customer\n",
    "          WHERE active = 1\n",
    "          '''\n",
    "\n",
    "num_active_costumers = get_data(query_7)\n",
    "num_active_costumers"
   ]
  },
  {
   "cell_type": "markdown",
   "metadata": {},
   "source": [
    "## Ex. 8\n",
    "\n",
    "Using the logical opetators AND, OR and NOT we can impose several conditions on the data to be returned. For example, we could ask for the number of active costumers whose name is Nancy"
   ]
  },
  {
   "cell_type": "code",
   "execution_count": 11,
   "metadata": {},
   "outputs": [
    {
     "output_type": "execute_result",
     "data": {
      "text/plain": "   count\n0      1",
      "text/html": "<div>\n<style scoped>\n    .dataframe tbody tr th:only-of-type {\n        vertical-align: middle;\n    }\n\n    .dataframe tbody tr th {\n        vertical-align: top;\n    }\n\n    .dataframe thead th {\n        text-align: right;\n    }\n</style>\n<table border=\"1\" class=\"dataframe\">\n  <thead>\n    <tr style=\"text-align: right;\">\n      <th></th>\n      <th>count</th>\n    </tr>\n  </thead>\n  <tbody>\n    <tr>\n      <th>0</th>\n      <td>1</td>\n    </tr>\n  </tbody>\n</table>\n</div>"
     },
     "metadata": {},
     "execution_count": 11
    }
   ],
   "source": [
    "query_8 = '''\n",
    "          SELECT COUNT(*) FROM customer\n",
    "          WHERE active = 1 and first_name = 'Nancy'\n",
    "          '''\n",
    "\n",
    "custom_query = get_data(query_8)\n",
    "custom_query"
   ]
  },
  {
   "cell_type": "markdown",
   "metadata": {},
   "source": [
    "# ORDER BY Statement\n",
    "\n",
    "With the ORDER BY statement we can sort the data based on a column value in either ascending or descending order.\n",
    "\n",
    "## Ex. 9\n",
    "\n",
    "For example, we can order the customer table and order by the first_name in ascending order"
   ]
  },
  {
   "cell_type": "code",
   "execution_count": 12,
   "metadata": {},
   "outputs": [
    {
     "output_type": "execute_result",
     "data": {
      "text/plain": "   customer_id  store_id first_name last_name  \\\n0          375         2      Aaron     Selby   \n1          367         1       Adam     Gooch   \n2          525         2     Adrian     Clary   \n3          217         2      Agnes    Bishop   \n4          389         1       Alan      Kahn   \n5          352         1     Albert    Crouse   \n6          568         2    Alberto   Henning   \n7          454         2       Alex   Gresham   \n8          439         2  Alexander   Fennell   \n9          423         2     Alfred  Casillas   \n\n                                  email  address_id  activebool create_date  \\\n0        aaron.selby@sakilacustomer.org         380        True  2006-02-14   \n1         adam.gooch@sakilacustomer.org         372        True  2006-02-14   \n2       adrian.clary@sakilacustomer.org         531        True  2006-02-14   \n3       agnes.bishop@sakilacustomer.org         221        True  2006-02-14   \n4          alan.kahn@sakilacustomer.org         394        True  2006-02-14   \n5      albert.crouse@sakilacustomer.org         357        True  2006-02-14   \n6    alberto.henning@sakilacustomer.org         574        True  2006-02-14   \n7       alex.gresham@sakilacustomer.org         459        True  2006-02-14   \n8  alexander.fennell@sakilacustomer.org         444        True  2006-02-14   \n9    alfred.casillas@sakilacustomer.org         428        True  2006-02-14   \n\n              last_update  active  \n0 2013-05-26 14:49:45.738       1  \n1 2013-05-26 14:49:45.738       1  \n2 2013-05-26 14:49:45.738       1  \n3 2013-05-26 14:49:45.738       1  \n4 2013-05-26 14:49:45.738       1  \n5 2013-05-26 14:49:45.738       1  \n6 2013-05-26 14:49:45.738       1  \n7 2013-05-26 14:49:45.738       1  \n8 2013-05-26 14:49:45.738       1  \n9 2013-05-26 14:49:45.738       1  ",
      "text/html": "<div>\n<style scoped>\n    .dataframe tbody tr th:only-of-type {\n        vertical-align: middle;\n    }\n\n    .dataframe tbody tr th {\n        vertical-align: top;\n    }\n\n    .dataframe thead th {\n        text-align: right;\n    }\n</style>\n<table border=\"1\" class=\"dataframe\">\n  <thead>\n    <tr style=\"text-align: right;\">\n      <th></th>\n      <th>customer_id</th>\n      <th>store_id</th>\n      <th>first_name</th>\n      <th>last_name</th>\n      <th>email</th>\n      <th>address_id</th>\n      <th>activebool</th>\n      <th>create_date</th>\n      <th>last_update</th>\n      <th>active</th>\n    </tr>\n  </thead>\n  <tbody>\n    <tr>\n      <th>0</th>\n      <td>375</td>\n      <td>2</td>\n      <td>Aaron</td>\n      <td>Selby</td>\n      <td>aaron.selby@sakilacustomer.org</td>\n      <td>380</td>\n      <td>True</td>\n      <td>2006-02-14</td>\n      <td>2013-05-26 14:49:45.738</td>\n      <td>1</td>\n    </tr>\n    <tr>\n      <th>1</th>\n      <td>367</td>\n      <td>1</td>\n      <td>Adam</td>\n      <td>Gooch</td>\n      <td>adam.gooch@sakilacustomer.org</td>\n      <td>372</td>\n      <td>True</td>\n      <td>2006-02-14</td>\n      <td>2013-05-26 14:49:45.738</td>\n      <td>1</td>\n    </tr>\n    <tr>\n      <th>2</th>\n      <td>525</td>\n      <td>2</td>\n      <td>Adrian</td>\n      <td>Clary</td>\n      <td>adrian.clary@sakilacustomer.org</td>\n      <td>531</td>\n      <td>True</td>\n      <td>2006-02-14</td>\n      <td>2013-05-26 14:49:45.738</td>\n      <td>1</td>\n    </tr>\n    <tr>\n      <th>3</th>\n      <td>217</td>\n      <td>2</td>\n      <td>Agnes</td>\n      <td>Bishop</td>\n      <td>agnes.bishop@sakilacustomer.org</td>\n      <td>221</td>\n      <td>True</td>\n      <td>2006-02-14</td>\n      <td>2013-05-26 14:49:45.738</td>\n      <td>1</td>\n    </tr>\n    <tr>\n      <th>4</th>\n      <td>389</td>\n      <td>1</td>\n      <td>Alan</td>\n      <td>Kahn</td>\n      <td>alan.kahn@sakilacustomer.org</td>\n      <td>394</td>\n      <td>True</td>\n      <td>2006-02-14</td>\n      <td>2013-05-26 14:49:45.738</td>\n      <td>1</td>\n    </tr>\n    <tr>\n      <th>5</th>\n      <td>352</td>\n      <td>1</td>\n      <td>Albert</td>\n      <td>Crouse</td>\n      <td>albert.crouse@sakilacustomer.org</td>\n      <td>357</td>\n      <td>True</td>\n      <td>2006-02-14</td>\n      <td>2013-05-26 14:49:45.738</td>\n      <td>1</td>\n    </tr>\n    <tr>\n      <th>6</th>\n      <td>568</td>\n      <td>2</td>\n      <td>Alberto</td>\n      <td>Henning</td>\n      <td>alberto.henning@sakilacustomer.org</td>\n      <td>574</td>\n      <td>True</td>\n      <td>2006-02-14</td>\n      <td>2013-05-26 14:49:45.738</td>\n      <td>1</td>\n    </tr>\n    <tr>\n      <th>7</th>\n      <td>454</td>\n      <td>2</td>\n      <td>Alex</td>\n      <td>Gresham</td>\n      <td>alex.gresham@sakilacustomer.org</td>\n      <td>459</td>\n      <td>True</td>\n      <td>2006-02-14</td>\n      <td>2013-05-26 14:49:45.738</td>\n      <td>1</td>\n    </tr>\n    <tr>\n      <th>8</th>\n      <td>439</td>\n      <td>2</td>\n      <td>Alexander</td>\n      <td>Fennell</td>\n      <td>alexander.fennell@sakilacustomer.org</td>\n      <td>444</td>\n      <td>True</td>\n      <td>2006-02-14</td>\n      <td>2013-05-26 14:49:45.738</td>\n      <td>1</td>\n    </tr>\n    <tr>\n      <th>9</th>\n      <td>423</td>\n      <td>2</td>\n      <td>Alfred</td>\n      <td>Casillas</td>\n      <td>alfred.casillas@sakilacustomer.org</td>\n      <td>428</td>\n      <td>True</td>\n      <td>2006-02-14</td>\n      <td>2013-05-26 14:49:45.738</td>\n      <td>1</td>\n    </tr>\n  </tbody>\n</table>\n</div>"
     },
     "metadata": {},
     "execution_count": 12
    }
   ],
   "source": [
    "query_9 = '''\n",
    "          SELECT * FROM customer\n",
    "          ORDER BY first_name ASC\n",
    "          '''\n",
    "\n",
    "custom_query = get_data(query_9)\n",
    "custom_query"
   ]
  },
  {
   "cell_type": "markdown",
   "metadata": {},
   "source": [
    "# Ex. 10\n",
    "\n",
    "Another thing we can do es sort the data based on multiple columns. Forv example, let's say that we want to sort the customer table based on the store_id in descending order and then the first_name in ascending order."
   ]
  },
  {
   "cell_type": "code",
   "execution_count": 13,
   "metadata": {},
   "outputs": [
    {
     "output_type": "execute_result",
     "data": {
      "text/plain": "   customer_id  store_id first_name    last_name  \\\n0          375         2      Aaron        Selby   \n1          525         2     Adrian        Clary   \n2          217         2      Agnes       Bishop   \n3          568         2    Alberto      Henning   \n4          454         2       Alex      Gresham   \n5          439         2  Alexander      Fennell   \n6          423         2     Alfred     Casillas   \n7          567         2    Alfredo      Mcadams   \n8          412         2      Allen  Butterfield   \n9          228         2    Allison      Stanley   \n\n                                  email  address_id  activebool create_date  \\\n0        aaron.selby@sakilacustomer.org         380        True  2006-02-14   \n1       adrian.clary@sakilacustomer.org         531        True  2006-02-14   \n2       agnes.bishop@sakilacustomer.org         221        True  2006-02-14   \n3    alberto.henning@sakilacustomer.org         574        True  2006-02-14   \n4       alex.gresham@sakilacustomer.org         459        True  2006-02-14   \n5  alexander.fennell@sakilacustomer.org         444        True  2006-02-14   \n6    alfred.casillas@sakilacustomer.org         428        True  2006-02-14   \n7    alfredo.mcadams@sakilacustomer.org         573        True  2006-02-14   \n8  allen.butterfield@sakilacustomer.org         417        True  2006-02-14   \n9    allison.stanley@sakilacustomer.org         232        True  2006-02-14   \n\n              last_update  active  \n0 2013-05-26 14:49:45.738       1  \n1 2013-05-26 14:49:45.738       1  \n2 2013-05-26 14:49:45.738       1  \n3 2013-05-26 14:49:45.738       1  \n4 2013-05-26 14:49:45.738       1  \n5 2013-05-26 14:49:45.738       1  \n6 2013-05-26 14:49:45.738       1  \n7 2013-05-26 14:49:45.738       1  \n8 2013-05-26 14:49:45.738       1  \n9 2013-05-26 14:49:45.738       1  ",
      "text/html": "<div>\n<style scoped>\n    .dataframe tbody tr th:only-of-type {\n        vertical-align: middle;\n    }\n\n    .dataframe tbody tr th {\n        vertical-align: top;\n    }\n\n    .dataframe thead th {\n        text-align: right;\n    }\n</style>\n<table border=\"1\" class=\"dataframe\">\n  <thead>\n    <tr style=\"text-align: right;\">\n      <th></th>\n      <th>customer_id</th>\n      <th>store_id</th>\n      <th>first_name</th>\n      <th>last_name</th>\n      <th>email</th>\n      <th>address_id</th>\n      <th>activebool</th>\n      <th>create_date</th>\n      <th>last_update</th>\n      <th>active</th>\n    </tr>\n  </thead>\n  <tbody>\n    <tr>\n      <th>0</th>\n      <td>375</td>\n      <td>2</td>\n      <td>Aaron</td>\n      <td>Selby</td>\n      <td>aaron.selby@sakilacustomer.org</td>\n      <td>380</td>\n      <td>True</td>\n      <td>2006-02-14</td>\n      <td>2013-05-26 14:49:45.738</td>\n      <td>1</td>\n    </tr>\n    <tr>\n      <th>1</th>\n      <td>525</td>\n      <td>2</td>\n      <td>Adrian</td>\n      <td>Clary</td>\n      <td>adrian.clary@sakilacustomer.org</td>\n      <td>531</td>\n      <td>True</td>\n      <td>2006-02-14</td>\n      <td>2013-05-26 14:49:45.738</td>\n      <td>1</td>\n    </tr>\n    <tr>\n      <th>2</th>\n      <td>217</td>\n      <td>2</td>\n      <td>Agnes</td>\n      <td>Bishop</td>\n      <td>agnes.bishop@sakilacustomer.org</td>\n      <td>221</td>\n      <td>True</td>\n      <td>2006-02-14</td>\n      <td>2013-05-26 14:49:45.738</td>\n      <td>1</td>\n    </tr>\n    <tr>\n      <th>3</th>\n      <td>568</td>\n      <td>2</td>\n      <td>Alberto</td>\n      <td>Henning</td>\n      <td>alberto.henning@sakilacustomer.org</td>\n      <td>574</td>\n      <td>True</td>\n      <td>2006-02-14</td>\n      <td>2013-05-26 14:49:45.738</td>\n      <td>1</td>\n    </tr>\n    <tr>\n      <th>4</th>\n      <td>454</td>\n      <td>2</td>\n      <td>Alex</td>\n      <td>Gresham</td>\n      <td>alex.gresham@sakilacustomer.org</td>\n      <td>459</td>\n      <td>True</td>\n      <td>2006-02-14</td>\n      <td>2013-05-26 14:49:45.738</td>\n      <td>1</td>\n    </tr>\n    <tr>\n      <th>5</th>\n      <td>439</td>\n      <td>2</td>\n      <td>Alexander</td>\n      <td>Fennell</td>\n      <td>alexander.fennell@sakilacustomer.org</td>\n      <td>444</td>\n      <td>True</td>\n      <td>2006-02-14</td>\n      <td>2013-05-26 14:49:45.738</td>\n      <td>1</td>\n    </tr>\n    <tr>\n      <th>6</th>\n      <td>423</td>\n      <td>2</td>\n      <td>Alfred</td>\n      <td>Casillas</td>\n      <td>alfred.casillas@sakilacustomer.org</td>\n      <td>428</td>\n      <td>True</td>\n      <td>2006-02-14</td>\n      <td>2013-05-26 14:49:45.738</td>\n      <td>1</td>\n    </tr>\n    <tr>\n      <th>7</th>\n      <td>567</td>\n      <td>2</td>\n      <td>Alfredo</td>\n      <td>Mcadams</td>\n      <td>alfredo.mcadams@sakilacustomer.org</td>\n      <td>573</td>\n      <td>True</td>\n      <td>2006-02-14</td>\n      <td>2013-05-26 14:49:45.738</td>\n      <td>1</td>\n    </tr>\n    <tr>\n      <th>8</th>\n      <td>412</td>\n      <td>2</td>\n      <td>Allen</td>\n      <td>Butterfield</td>\n      <td>allen.butterfield@sakilacustomer.org</td>\n      <td>417</td>\n      <td>True</td>\n      <td>2006-02-14</td>\n      <td>2013-05-26 14:49:45.738</td>\n      <td>1</td>\n    </tr>\n    <tr>\n      <th>9</th>\n      <td>228</td>\n      <td>2</td>\n      <td>Allison</td>\n      <td>Stanley</td>\n      <td>allison.stanley@sakilacustomer.org</td>\n      <td>232</td>\n      <td>True</td>\n      <td>2006-02-14</td>\n      <td>2013-05-26 14:49:45.738</td>\n      <td>1</td>\n    </tr>\n  </tbody>\n</table>\n</div>"
     },
     "metadata": {},
     "execution_count": 13
    }
   ],
   "source": [
    "query_10 = '''\n",
    "          SELECT * FROM customer\n",
    "          ORDER BY store_id DESC, first_name ASC \n",
    "          '''\n",
    "\n",
    "custom_query = get_data(query_10)\n",
    "custom_query"
   ]
  },
  {
   "cell_type": "markdown",
   "metadata": {},
   "source": [
    "# LIMIT Statement\n",
    "\n",
    "The limit statement is used to restricy the number of rows retunred by a query. The limit value defines the number of top rows to be returned.\n",
    "\n",
    "## Ex. 11 \n",
    "\n",
    "For example, we can choose to only ask for the first five rows in the costumer table."
   ]
  },
  {
   "cell_type": "code",
   "execution_count": 14,
   "metadata": {},
   "outputs": [
    {
     "output_type": "execute_result",
     "data": {
      "text/plain": "   customer_id  store_id first_name last_name  \\\n0          524         1      Jared       Ely   \n1            1         1       Mary     Smith   \n2            2         1   Patricia   Johnson   \n3            3         1      Linda  Williams   \n4            4         2    Barbara     Jones   \n\n                                 email  address_id  activebool create_date  \\\n0         jared.ely@sakilacustomer.org         530        True  2006-02-14   \n1        mary.smith@sakilacustomer.org           5        True  2006-02-14   \n2  patricia.johnson@sakilacustomer.org           6        True  2006-02-14   \n3    linda.williams@sakilacustomer.org           7        True  2006-02-14   \n4     barbara.jones@sakilacustomer.org           8        True  2006-02-14   \n\n              last_update  active  \n0 2013-05-26 14:49:45.738       1  \n1 2013-05-26 14:49:45.738       1  \n2 2013-05-26 14:49:45.738       1  \n3 2013-05-26 14:49:45.738       1  \n4 2013-05-26 14:49:45.738       1  ",
      "text/html": "<div>\n<style scoped>\n    .dataframe tbody tr th:only-of-type {\n        vertical-align: middle;\n    }\n\n    .dataframe tbody tr th {\n        vertical-align: top;\n    }\n\n    .dataframe thead th {\n        text-align: right;\n    }\n</style>\n<table border=\"1\" class=\"dataframe\">\n  <thead>\n    <tr style=\"text-align: right;\">\n      <th></th>\n      <th>customer_id</th>\n      <th>store_id</th>\n      <th>first_name</th>\n      <th>last_name</th>\n      <th>email</th>\n      <th>address_id</th>\n      <th>activebool</th>\n      <th>create_date</th>\n      <th>last_update</th>\n      <th>active</th>\n    </tr>\n  </thead>\n  <tbody>\n    <tr>\n      <th>0</th>\n      <td>524</td>\n      <td>1</td>\n      <td>Jared</td>\n      <td>Ely</td>\n      <td>jared.ely@sakilacustomer.org</td>\n      <td>530</td>\n      <td>True</td>\n      <td>2006-02-14</td>\n      <td>2013-05-26 14:49:45.738</td>\n      <td>1</td>\n    </tr>\n    <tr>\n      <th>1</th>\n      <td>1</td>\n      <td>1</td>\n      <td>Mary</td>\n      <td>Smith</td>\n      <td>mary.smith@sakilacustomer.org</td>\n      <td>5</td>\n      <td>True</td>\n      <td>2006-02-14</td>\n      <td>2013-05-26 14:49:45.738</td>\n      <td>1</td>\n    </tr>\n    <tr>\n      <th>2</th>\n      <td>2</td>\n      <td>1</td>\n      <td>Patricia</td>\n      <td>Johnson</td>\n      <td>patricia.johnson@sakilacustomer.org</td>\n      <td>6</td>\n      <td>True</td>\n      <td>2006-02-14</td>\n      <td>2013-05-26 14:49:45.738</td>\n      <td>1</td>\n    </tr>\n    <tr>\n      <th>3</th>\n      <td>3</td>\n      <td>1</td>\n      <td>Linda</td>\n      <td>Williams</td>\n      <td>linda.williams@sakilacustomer.org</td>\n      <td>7</td>\n      <td>True</td>\n      <td>2006-02-14</td>\n      <td>2013-05-26 14:49:45.738</td>\n      <td>1</td>\n    </tr>\n    <tr>\n      <th>4</th>\n      <td>4</td>\n      <td>2</td>\n      <td>Barbara</td>\n      <td>Jones</td>\n      <td>barbara.jones@sakilacustomer.org</td>\n      <td>8</td>\n      <td>True</td>\n      <td>2006-02-14</td>\n      <td>2013-05-26 14:49:45.738</td>\n      <td>1</td>\n    </tr>\n  </tbody>\n</table>\n</div>"
     },
     "metadata": {},
     "execution_count": 14
    }
   ],
   "source": [
    "query_11 = '''\n",
    "          SELECT * FROM customer\n",
    "          LIMIT 5\n",
    "          '''\n",
    "\n",
    "first_five = get_data(query_11)\n",
    "first_five"
   ]
  },
  {
   "cell_type": "markdown",
   "metadata": {},
   "source": [
    "## Ex. 12 \n",
    "\n",
    "We can use the LIMIT statement in combination with the ORDER BY statement, to ask, for example, for the five most recent purchases un the paymenyt table."
   ]
  },
  {
   "cell_type": "code",
   "execution_count": 15,
   "metadata": {},
   "outputs": [
    {
     "output_type": "execute_result",
     "data": {
      "text/plain": "   payment_id  customer_id  staff_id  rental_id amount  \\\n0       31920          269         2      12610   0.00   \n1       31917          267         2      12066   7.98   \n2       31918          267         2      13713   0.00   \n3       31919          269         1      13025   3.98   \n4       31921          274         1      13486   0.99   \n\n                payment_date  \n0 2007-05-14 13:44:29.996577  \n1 2007-05-14 13:44:29.996577  \n2 2007-05-14 13:44:29.996577  \n3 2007-05-14 13:44:29.996577  \n4 2007-05-14 13:44:29.996577  ",
      "text/html": "<div>\n<style scoped>\n    .dataframe tbody tr th:only-of-type {\n        vertical-align: middle;\n    }\n\n    .dataframe tbody tr th {\n        vertical-align: top;\n    }\n\n    .dataframe thead th {\n        text-align: right;\n    }\n</style>\n<table border=\"1\" class=\"dataframe\">\n  <thead>\n    <tr style=\"text-align: right;\">\n      <th></th>\n      <th>payment_id</th>\n      <th>customer_id</th>\n      <th>staff_id</th>\n      <th>rental_id</th>\n      <th>amount</th>\n      <th>payment_date</th>\n    </tr>\n  </thead>\n  <tbody>\n    <tr>\n      <th>0</th>\n      <td>31920</td>\n      <td>269</td>\n      <td>2</td>\n      <td>12610</td>\n      <td>0.00</td>\n      <td>2007-05-14 13:44:29.996577</td>\n    </tr>\n    <tr>\n      <th>1</th>\n      <td>31917</td>\n      <td>267</td>\n      <td>2</td>\n      <td>12066</td>\n      <td>7.98</td>\n      <td>2007-05-14 13:44:29.996577</td>\n    </tr>\n    <tr>\n      <th>2</th>\n      <td>31918</td>\n      <td>267</td>\n      <td>2</td>\n      <td>13713</td>\n      <td>0.00</td>\n      <td>2007-05-14 13:44:29.996577</td>\n    </tr>\n    <tr>\n      <th>3</th>\n      <td>31919</td>\n      <td>269</td>\n      <td>1</td>\n      <td>13025</td>\n      <td>3.98</td>\n      <td>2007-05-14 13:44:29.996577</td>\n    </tr>\n    <tr>\n      <th>4</th>\n      <td>31921</td>\n      <td>274</td>\n      <td>1</td>\n      <td>13486</td>\n      <td>0.99</td>\n      <td>2007-05-14 13:44:29.996577</td>\n    </tr>\n  </tbody>\n</table>\n</div>"
     },
     "metadata": {},
     "execution_count": 15
    }
   ],
   "source": [
    "query_12 = '''\n",
    "          SELECT * FROM payment\n",
    "          ORDER BY payment_date DESC  \n",
    "          LIMIT 5\n",
    "          '''\n",
    "\n",
    "recent_pur = get_data(query_12)\n",
    "recent_pur"
   ]
  },
  {
   "cell_type": "markdown",
   "metadata": {},
   "source": [
    "## Ex. 13\n",
    "\n",
    "We can also ask for for the five most recent purchases whose amount is different from zero."
   ]
  },
  {
   "cell_type": "code",
   "execution_count": 16,
   "metadata": {},
   "outputs": [
    {
     "output_type": "execute_result",
     "data": {
      "text/plain": "   payment_id  customer_id  staff_id  rental_id amount  \\\n0       31922          279         2      13538   4.99   \n1       31917          267         2      12066   7.98   \n2       31919          269         1      13025   3.98   \n3       31921          274         1      13486   0.99   \n4       31923          282         2      15430   0.99   \n\n                payment_date  \n0 2007-05-14 13:44:29.996577  \n1 2007-05-14 13:44:29.996577  \n2 2007-05-14 13:44:29.996577  \n3 2007-05-14 13:44:29.996577  \n4 2007-05-14 13:44:29.996577  ",
      "text/html": "<div>\n<style scoped>\n    .dataframe tbody tr th:only-of-type {\n        vertical-align: middle;\n    }\n\n    .dataframe tbody tr th {\n        vertical-align: top;\n    }\n\n    .dataframe thead th {\n        text-align: right;\n    }\n</style>\n<table border=\"1\" class=\"dataframe\">\n  <thead>\n    <tr style=\"text-align: right;\">\n      <th></th>\n      <th>payment_id</th>\n      <th>customer_id</th>\n      <th>staff_id</th>\n      <th>rental_id</th>\n      <th>amount</th>\n      <th>payment_date</th>\n    </tr>\n  </thead>\n  <tbody>\n    <tr>\n      <th>0</th>\n      <td>31922</td>\n      <td>279</td>\n      <td>2</td>\n      <td>13538</td>\n      <td>4.99</td>\n      <td>2007-05-14 13:44:29.996577</td>\n    </tr>\n    <tr>\n      <th>1</th>\n      <td>31917</td>\n      <td>267</td>\n      <td>2</td>\n      <td>12066</td>\n      <td>7.98</td>\n      <td>2007-05-14 13:44:29.996577</td>\n    </tr>\n    <tr>\n      <th>2</th>\n      <td>31919</td>\n      <td>269</td>\n      <td>1</td>\n      <td>13025</td>\n      <td>3.98</td>\n      <td>2007-05-14 13:44:29.996577</td>\n    </tr>\n    <tr>\n      <th>3</th>\n      <td>31921</td>\n      <td>274</td>\n      <td>1</td>\n      <td>13486</td>\n      <td>0.99</td>\n      <td>2007-05-14 13:44:29.996577</td>\n    </tr>\n    <tr>\n      <th>4</th>\n      <td>31923</td>\n      <td>282</td>\n      <td>2</td>\n      <td>15430</td>\n      <td>0.99</td>\n      <td>2007-05-14 13:44:29.996577</td>\n    </tr>\n  </tbody>\n</table>\n</div>"
     },
     "metadata": {},
     "execution_count": 16
    }
   ],
   "source": [
    "query_13 = '''\n",
    "          SELECT * FROM payment\n",
    "          WHERE amount != 0\n",
    "          ORDER BY payment_date DESC  \n",
    "          LIMIT 5\n",
    "          '''\n",
    "\n",
    "recent_pur = get_data(query_13)\n",
    "recent_pur"
   ]
  },
  {
   "cell_type": "markdown",
   "metadata": {},
   "source": [
    "# BETWEEN Statement\n",
    "\n",
    "We use the BETWEEN statement to select rows form teh data whose value on a column lies between a given range.\n",
    "\n",
    "Ex. 14\n",
    "\n",
    "Using the BETWEEN statement we can find out what payments were made between a certain range, let's say 5\\$ and 8\\$.  "
   ]
  },
  {
   "cell_type": "code",
   "execution_count": 18,
   "metadata": {},
   "outputs": [
    {
     "output_type": "execute_result",
     "data": {
      "text/plain": "   payment_id  customer_id  staff_id  rental_id amount  \\\n0       17503          341         2       1520   7.99   \n1       17505          341         1       1849   7.99   \n2       17507          341         2       3130   7.99   \n3       17508          341         1       3382   5.99   \n4       17509          342         2       2190   5.99   \n5       17510          342         1       2914   5.99   \n6       17513          343         1       1564   6.99   \n7       17516          343         2       2461   6.99   \n8       17526          346         1       1994   5.99   \n9       17533          347         1       3326   7.99   \n\n                payment_date  \n0 2007-02-15 22:25:46.996577  \n1 2007-02-16 22:41:45.996577  \n2 2007-02-20 17:31:48.996577  \n3 2007-02-21 12:33:49.996577  \n4 2007-02-17 23:58:17.996577  \n5 2007-02-20 02:11:44.996577  \n6 2007-02-16 01:15:33.996577  \n7 2007-02-18 18:26:38.996577  \n8 2007-02-17 09:35:32.996577  \n9 2007-02-21 07:33:16.996577  ",
      "text/html": "<div>\n<style scoped>\n    .dataframe tbody tr th:only-of-type {\n        vertical-align: middle;\n    }\n\n    .dataframe tbody tr th {\n        vertical-align: top;\n    }\n\n    .dataframe thead th {\n        text-align: right;\n    }\n</style>\n<table border=\"1\" class=\"dataframe\">\n  <thead>\n    <tr style=\"text-align: right;\">\n      <th></th>\n      <th>payment_id</th>\n      <th>customer_id</th>\n      <th>staff_id</th>\n      <th>rental_id</th>\n      <th>amount</th>\n      <th>payment_date</th>\n    </tr>\n  </thead>\n  <tbody>\n    <tr>\n      <th>0</th>\n      <td>17503</td>\n      <td>341</td>\n      <td>2</td>\n      <td>1520</td>\n      <td>7.99</td>\n      <td>2007-02-15 22:25:46.996577</td>\n    </tr>\n    <tr>\n      <th>1</th>\n      <td>17505</td>\n      <td>341</td>\n      <td>1</td>\n      <td>1849</td>\n      <td>7.99</td>\n      <td>2007-02-16 22:41:45.996577</td>\n    </tr>\n    <tr>\n      <th>2</th>\n      <td>17507</td>\n      <td>341</td>\n      <td>2</td>\n      <td>3130</td>\n      <td>7.99</td>\n      <td>2007-02-20 17:31:48.996577</td>\n    </tr>\n    <tr>\n      <th>3</th>\n      <td>17508</td>\n      <td>341</td>\n      <td>1</td>\n      <td>3382</td>\n      <td>5.99</td>\n      <td>2007-02-21 12:33:49.996577</td>\n    </tr>\n    <tr>\n      <th>4</th>\n      <td>17509</td>\n      <td>342</td>\n      <td>2</td>\n      <td>2190</td>\n      <td>5.99</td>\n      <td>2007-02-17 23:58:17.996577</td>\n    </tr>\n    <tr>\n      <th>5</th>\n      <td>17510</td>\n      <td>342</td>\n      <td>1</td>\n      <td>2914</td>\n      <td>5.99</td>\n      <td>2007-02-20 02:11:44.996577</td>\n    </tr>\n    <tr>\n      <th>6</th>\n      <td>17513</td>\n      <td>343</td>\n      <td>1</td>\n      <td>1564</td>\n      <td>6.99</td>\n      <td>2007-02-16 01:15:33.996577</td>\n    </tr>\n    <tr>\n      <th>7</th>\n      <td>17516</td>\n      <td>343</td>\n      <td>2</td>\n      <td>2461</td>\n      <td>6.99</td>\n      <td>2007-02-18 18:26:38.996577</td>\n    </tr>\n    <tr>\n      <th>8</th>\n      <td>17526</td>\n      <td>346</td>\n      <td>1</td>\n      <td>1994</td>\n      <td>5.99</td>\n      <td>2007-02-17 09:35:32.996577</td>\n    </tr>\n    <tr>\n      <th>9</th>\n      <td>17533</td>\n      <td>347</td>\n      <td>1</td>\n      <td>3326</td>\n      <td>7.99</td>\n      <td>2007-02-21 07:33:16.996577</td>\n    </tr>\n  </tbody>\n</table>\n</div>"
     },
     "metadata": {},
     "execution_count": 18
    }
   ],
   "source": [
    "query_14 = '''\n",
    "          SELECT * FROM payment\n",
    "          WHERE amount BETWEEN 5 AND 8\n",
    "          '''\n",
    "\n",
    "payments = get_data(query_14)\n",
    "payments"
   ]
  },
  {
   "cell_type": "markdown",
   "metadata": {},
   "source": [
    "## Ex. 15\n",
    "\n",
    "If we want to know the total nomber of these transactions we can do it with the next query"
   ]
  },
  {
   "cell_type": "code",
   "execution_count": 20,
   "metadata": {},
   "outputs": [
    {
     "output_type": "execute_result",
     "data": {
      "text/plain": "   count\n0   2838",
      "text/html": "<div>\n<style scoped>\n    .dataframe tbody tr th:only-of-type {\n        vertical-align: middle;\n    }\n\n    .dataframe tbody tr th {\n        vertical-align: top;\n    }\n\n    .dataframe thead th {\n        text-align: right;\n    }\n</style>\n<table border=\"1\" class=\"dataframe\">\n  <thead>\n    <tr style=\"text-align: right;\">\n      <th></th>\n      <th>count</th>\n    </tr>\n  </thead>\n  <tbody>\n    <tr>\n      <th>0</th>\n      <td>2838</td>\n    </tr>\n  </tbody>\n</table>\n</div>"
     },
     "metadata": {},
     "execution_count": 20
    }
   ],
   "source": [
    "query_15 = '''\n",
    "          SELECT COUNT(*) FROM payment\n",
    "          WHERE amount BETWEEN 5 AND 8\n",
    "          '''\n",
    "\n",
    "payments = get_data(query_15)\n",
    "payments"
   ]
  },
  {
   "cell_type": "markdown",
   "metadata": {},
   "source": [
    "Ex. 16\n",
    "\n",
    "We can laso deny the BETWEEN statement. Let's ask for the amount of payments that were not made within the 5\\$ and 8\\$ range"
   ]
  },
  {
   "cell_type": "code",
   "execution_count": 21,
   "metadata": {},
   "outputs": [
    {
     "output_type": "execute_result",
     "data": {
      "text/plain": "   count\n0  11758",
      "text/html": "<div>\n<style scoped>\n    .dataframe tbody tr th:only-of-type {\n        vertical-align: middle;\n    }\n\n    .dataframe tbody tr th {\n        vertical-align: top;\n    }\n\n    .dataframe thead th {\n        text-align: right;\n    }\n</style>\n<table border=\"1\" class=\"dataframe\">\n  <thead>\n    <tr style=\"text-align: right;\">\n      <th></th>\n      <th>count</th>\n    </tr>\n  </thead>\n  <tbody>\n    <tr>\n      <th>0</th>\n      <td>11758</td>\n    </tr>\n  </tbody>\n</table>\n</div>"
     },
     "metadata": {},
     "execution_count": 21
    }
   ],
   "source": [
    "query_14 = '''\n",
    "          SELECT COUNT(*) FROM payment\n",
    "          WHERE amount NOT BETWEEN 5 AND 8\n",
    "          '''\n",
    "\n",
    "payments = get_data(query_14)\n",
    "payments"
   ]
  },
  {
   "cell_type": "code",
   "execution_count": null,
   "metadata": {},
   "outputs": [],
   "source": []
  }
 ],
 "metadata": {
  "language_info": {
   "codemirror_mode": {
    "name": "ipython",
    "version": 3
   },
   "file_extension": ".py",
   "mimetype": "text/x-python",
   "name": "python",
   "nbconvert_exporter": "python",
   "pygments_lexer": "ipython3",
   "version": "3.8.1-final"
  },
  "orig_nbformat": 2,
  "kernelspec": {
   "name": "python38364bitsqlcondac46ff261eb2d405f8ac307a3c81d2935",
   "display_name": "Python 3.8.3 64-bit ('sql': conda)"
  }
 },
 "nbformat": 4,
 "nbformat_minor": 2
}