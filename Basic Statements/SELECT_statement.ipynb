{
 "cells": [
  {
   "cell_type": "markdown",
   "metadata": {},
   "source": [
    "# SELECT Statement\n",
    "\n",
    "### In this notebook we study some use case examples for the SELECT statment.\n",
    "\n",
    "We first call the pandas and psycopg2 libraries"
   ]
  },
  {
   "cell_type": "code",
   "execution_count": 20,
   "metadata": {},
   "outputs": [],
   "source": [
    "import pandas as pd\n",
    "import psycopg2 as pg2"
   ]
  },
  {
   "cell_type": "markdown",
   "metadata": {},
   "source": [
    "Now let's create an engine instance giving the create_engine function the database URL as argument"
   ]
  },
  {
   "cell_type": "code",
   "execution_count": 21,
   "metadata": {},
   "outputs": [],
   "source": [
    "connection = pg2.connect(database = 'dvdrental', user = 'postgres', password = 'password')"
   ]
  },
  {
   "cell_type": "code",
   "execution_count": 26,
   "metadata": {},
   "outputs": [],
   "source": [
    "def get_data(query):\n",
    "\n",
    "    with connection.cursor() as cursor:\n",
    "        cursor. execute(query_1)\n",
    "        raw_data = cursor.fetchmany(10) \n",
    "        col_names = [col_desc[0] for col_desc in cursor.description]\n",
    "        data = pd.DataFrame(raw_data, columns = col_names)\n",
    "\n",
    "    return data"
   ]
  },
  {
   "cell_type": "markdown",
   "metadata": {},
   "source": [
    "## Ex. 1\n",
    "\n",
    "As our first example, we'll ask for the whole actor table form the database. At the end of the cell we display the first ten rows of the table."
   ]
  },
  {
   "cell_type": "code",
   "execution_count": 22,
   "metadata": {},
   "outputs": [
    {
     "output_type": "execute_result",
     "data": {
      "text/plain": "   actor_id first_name     last_name             last_update\n0         1   Penelope       Guiness 2013-05-26 14:47:57.620\n1         2       Nick      Wahlberg 2013-05-26 14:47:57.620\n2         3         Ed         Chase 2013-05-26 14:47:57.620\n3         4   Jennifer         Davis 2013-05-26 14:47:57.620\n4         5     Johnny  Lollobrigida 2013-05-26 14:47:57.620\n5         6      Bette     Nicholson 2013-05-26 14:47:57.620\n6         7      Grace        Mostel 2013-05-26 14:47:57.620\n7         8    Matthew     Johansson 2013-05-26 14:47:57.620\n8         9        Joe         Swank 2013-05-26 14:47:57.620\n9        10  Christian         Gable 2013-05-26 14:47:57.620",
      "text/html": "<div>\n<style scoped>\n    .dataframe tbody tr th:only-of-type {\n        vertical-align: middle;\n    }\n\n    .dataframe tbody tr th {\n        vertical-align: top;\n    }\n\n    .dataframe thead th {\n        text-align: right;\n    }\n</style>\n<table border=\"1\" class=\"dataframe\">\n  <thead>\n    <tr style=\"text-align: right;\">\n      <th></th>\n      <th>actor_id</th>\n      <th>first_name</th>\n      <th>last_name</th>\n      <th>last_update</th>\n    </tr>\n  </thead>\n  <tbody>\n    <tr>\n      <th>0</th>\n      <td>1</td>\n      <td>Penelope</td>\n      <td>Guiness</td>\n      <td>2013-05-26 14:47:57.620</td>\n    </tr>\n    <tr>\n      <th>1</th>\n      <td>2</td>\n      <td>Nick</td>\n      <td>Wahlberg</td>\n      <td>2013-05-26 14:47:57.620</td>\n    </tr>\n    <tr>\n      <th>2</th>\n      <td>3</td>\n      <td>Ed</td>\n      <td>Chase</td>\n      <td>2013-05-26 14:47:57.620</td>\n    </tr>\n    <tr>\n      <th>3</th>\n      <td>4</td>\n      <td>Jennifer</td>\n      <td>Davis</td>\n      <td>2013-05-26 14:47:57.620</td>\n    </tr>\n    <tr>\n      <th>4</th>\n      <td>5</td>\n      <td>Johnny</td>\n      <td>Lollobrigida</td>\n      <td>2013-05-26 14:47:57.620</td>\n    </tr>\n    <tr>\n      <th>5</th>\n      <td>6</td>\n      <td>Bette</td>\n      <td>Nicholson</td>\n      <td>2013-05-26 14:47:57.620</td>\n    </tr>\n    <tr>\n      <th>6</th>\n      <td>7</td>\n      <td>Grace</td>\n      <td>Mostel</td>\n      <td>2013-05-26 14:47:57.620</td>\n    </tr>\n    <tr>\n      <th>7</th>\n      <td>8</td>\n      <td>Matthew</td>\n      <td>Johansson</td>\n      <td>2013-05-26 14:47:57.620</td>\n    </tr>\n    <tr>\n      <th>8</th>\n      <td>9</td>\n      <td>Joe</td>\n      <td>Swank</td>\n      <td>2013-05-26 14:47:57.620</td>\n    </tr>\n    <tr>\n      <th>9</th>\n      <td>10</td>\n      <td>Christian</td>\n      <td>Gable</td>\n      <td>2013-05-26 14:47:57.620</td>\n    </tr>\n  </tbody>\n</table>\n</div>"
     },
     "metadata": {},
     "execution_count": 22
    }
   ],
   "source": [
    "query_1 = 'SELECT * FROM actor'\n",
    "\n",
    "with connection.cursor() as cursor:\n",
    "    cursor. execute(query_1)\n",
    "    raw_data = cursor.fetchmany(10) \n",
    "    col_names = [col_desc[0] for col_desc in cursor.description]\n",
    "    actor_table = pd.DataFrame(raw_data, columns = col_names)\n",
    "\n",
    "actor_table"
   ]
  },
  {
   "cell_type": "markdown",
   "metadata": {},
   "source": [
    "## Ex. 2\n",
    "\n",
    "We can grab only a subset of columns out of the table. "
   ]
  },
  {
   "cell_type": "code",
   "execution_count": 23,
   "metadata": {},
   "outputs": [
    {
     "output_type": "execute_result",
     "data": {
      "text/plain": "  first_name  actor_id\n0   Penelope         1\n1       Nick         2\n2         Ed         3\n3   Jennifer         4\n4     Johnny         5\n5      Bette         6\n6      Grace         7\n7    Matthew         8\n8        Joe         9\n9  Christian        10",
      "text/html": "<div>\n<style scoped>\n    .dataframe tbody tr th:only-of-type {\n        vertical-align: middle;\n    }\n\n    .dataframe tbody tr th {\n        vertical-align: top;\n    }\n\n    .dataframe thead th {\n        text-align: right;\n    }\n</style>\n<table border=\"1\" class=\"dataframe\">\n  <thead>\n    <tr style=\"text-align: right;\">\n      <th></th>\n      <th>first_name</th>\n      <th>actor_id</th>\n    </tr>\n  </thead>\n  <tbody>\n    <tr>\n      <th>0</th>\n      <td>Penelope</td>\n      <td>1</td>\n    </tr>\n    <tr>\n      <th>1</th>\n      <td>Nick</td>\n      <td>2</td>\n    </tr>\n    <tr>\n      <th>2</th>\n      <td>Ed</td>\n      <td>3</td>\n    </tr>\n    <tr>\n      <th>3</th>\n      <td>Jennifer</td>\n      <td>4</td>\n    </tr>\n    <tr>\n      <th>4</th>\n      <td>Johnny</td>\n      <td>5</td>\n    </tr>\n    <tr>\n      <th>5</th>\n      <td>Bette</td>\n      <td>6</td>\n    </tr>\n    <tr>\n      <th>6</th>\n      <td>Grace</td>\n      <td>7</td>\n    </tr>\n    <tr>\n      <th>7</th>\n      <td>Matthew</td>\n      <td>8</td>\n    </tr>\n    <tr>\n      <th>8</th>\n      <td>Joe</td>\n      <td>9</td>\n    </tr>\n    <tr>\n      <th>9</th>\n      <td>Christian</td>\n      <td>10</td>\n    </tr>\n  </tbody>\n</table>\n</div>"
     },
     "metadata": {},
     "execution_count": 23
    }
   ],
   "source": [
    "query_2 = 'SELECT first_name, actor_id FROM actor'\n",
    "\n",
    "with connection.cursor() as cursor:\n",
    "    cursor. execute(query_2)\n",
    "    raw_data = cursor.fetchmany(10) \n",
    "    col_names = [col_desc[0] for col_desc in cursor.description]\n",
    "    two_columns = pd.DataFrame(raw_data, columns = col_names)\n",
    "\n",
    "two_columns"
   ]
  },
  {
   "cell_type": "markdown",
   "metadata": {},
   "source": [
    "## Ex 3.\n",
    "\n",
    "It may be the case that we'd like to list only the distinct vlaues in a certain column, we can use the DISTINCT keyword to fullfil this task. Suppose we'd want to know the different categories of the movies that are in the film database, to respond to this question we can use the following code "
   ]
  },
  {
   "cell_type": "code",
   "execution_count": 24,
   "metadata": {},
   "outputs": [
    {
     "output_type": "execute_result",
     "data": {
      "text/plain": "          name\n0       Family\n1        Games\n2    Animation\n3  Documentary\n4     Classics\n5       Sports\n6          New\n7     Children\n8        Music\n9       Travel",
      "text/html": "<div>\n<style scoped>\n    .dataframe tbody tr th:only-of-type {\n        vertical-align: middle;\n    }\n\n    .dataframe tbody tr th {\n        vertical-align: top;\n    }\n\n    .dataframe thead th {\n        text-align: right;\n    }\n</style>\n<table border=\"1\" class=\"dataframe\">\n  <thead>\n    <tr style=\"text-align: right;\">\n      <th></th>\n      <th>name</th>\n    </tr>\n  </thead>\n  <tbody>\n    <tr>\n      <th>0</th>\n      <td>Family</td>\n    </tr>\n    <tr>\n      <th>1</th>\n      <td>Games</td>\n    </tr>\n    <tr>\n      <th>2</th>\n      <td>Animation</td>\n    </tr>\n    <tr>\n      <th>3</th>\n      <td>Documentary</td>\n    </tr>\n    <tr>\n      <th>4</th>\n      <td>Classics</td>\n    </tr>\n    <tr>\n      <th>5</th>\n      <td>Sports</td>\n    </tr>\n    <tr>\n      <th>6</th>\n      <td>New</td>\n    </tr>\n    <tr>\n      <th>7</th>\n      <td>Children</td>\n    </tr>\n    <tr>\n      <th>8</th>\n      <td>Music</td>\n    </tr>\n    <tr>\n      <th>9</th>\n      <td>Travel</td>\n    </tr>\n  </tbody>\n</table>\n</div>"
     },
     "metadata": {},
     "execution_count": 24
    }
   ],
   "source": [
    "query_3 = 'SELECT DISTINCT(name) FROM category'\n",
    "\n",
    "with connection.cursor() as cursor:\n",
    "    cursor. execute(query_3)\n",
    "    raw_data = cursor.fetchmany(10) \n",
    "    col_names = [col_desc[0] for col_desc in cursor.description]\n",
    "    movie_categories = pd.DataFrame(raw_data, columns = col_names)\n",
    "\n",
    "movie_categories"
   ]
  },
  {
   "cell_type": "markdown",
   "metadata": {},
   "source": [
    "# COUNT Function \n",
    "\n",
    "The count function simply returns back the number of rows in a table.\n",
    "\n",
    "## Ex. 4\n",
    "\n",
    "Using the COUNT function we can calculate how many movies are in our database. "
   ]
  },
  {
   "cell_type": "code",
   "execution_count": 25,
   "metadata": {},
   "outputs": [
    {
     "output_type": "execute_result",
     "data": {
      "text/plain": "   count\n0   1000",
      "text/html": "<div>\n<style scoped>\n    .dataframe tbody tr th:only-of-type {\n        vertical-align: middle;\n    }\n\n    .dataframe tbody tr th {\n        vertical-align: top;\n    }\n\n    .dataframe thead th {\n        text-align: right;\n    }\n</style>\n<table border=\"1\" class=\"dataframe\">\n  <thead>\n    <tr style=\"text-align: right;\">\n      <th></th>\n      <th>count</th>\n    </tr>\n  </thead>\n  <tbody>\n    <tr>\n      <th>0</th>\n      <td>1000</td>\n    </tr>\n  </tbody>\n</table>\n</div>"
     },
     "metadata": {},
     "execution_count": 25
    }
   ],
   "source": [
    "query_4 = 'SELECT COUNT(film_id) FROM film'\n",
    "\n",
    "with connection.cursor() as cursor:\n",
    "    cursor. execute(query_4)\n",
    "    raw_data = cursor.fetchmany(10) \n",
    "    col_names = [col_desc[0] for col_desc in cursor.description]\n",
    "    amount_movies = pd.DataFrame(raw_data, columns = col_names)\n",
    "\n",
    "amount_movies"
   ]
  },
  {
   "cell_type": "code",
   "execution_count": null,
   "metadata": {},
   "outputs": [],
   "source": []
  }
 ],
 "metadata": {
  "language_info": {
   "codemirror_mode": {
    "name": "ipython",
    "version": 3
   },
   "file_extension": ".py",
   "mimetype": "text/x-python",
   "name": "python",
   "nbconvert_exporter": "python",
   "pygments_lexer": "ipython3",
   "version": "3.7.3-final"
  },
  "orig_nbformat": 2,
  "kernelspec": {
   "name": "deep_learning",
   "display_name": "deep_learning"
  }
 },
 "nbformat": 4,
 "nbformat_minor": 2
}