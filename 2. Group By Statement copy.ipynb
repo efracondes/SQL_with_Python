{
 "cells": [
  {
   "cell_type": "markdown",
   "metadata": {},
   "source": [
    "# GROUP BY Statements\n",
    "\n",
    "### In this notebook we study some use case examples of the GROUP BY statments. We use Python as our main programming language and make use of libraries such as Pandas ans Psycopg2 to present the results of the queries.\n",
    "\n",
    "# Aggregate Functions\n",
    "\n",
    "Before we study the GROUP BY statements we must learn about aggregate functions. SQL provides us with a large number of aggregate function but we'll just cover a few of them here, the ones that I belive are the most common. \n",
    "\n",
    "The main idea behind the aggregate functions is to take several inputs and return a single input. In our particular case, we'll pass the values of one column (or a subset of those values) to an aggregate function as the input and it will return a single value made out of the values of the column.\n",
    "\n",
    "In fact we´ve already seen an example of aggregate function. The COUNT() function takes a set of rows and returns the number of those rows.\n",
    "\n",
    "## Ex. 1 (AVG)\n",
    "\n",
    "We can use the AVG (average function) to calculate the average replacement cost of the films in the database \n"
   ]
  },
  {
   "cell_type": "code",
   "execution_count": null,
   "metadata": {},
   "outputs": [],
   "source": []
  }
 ],
 "metadata": {
  "language_info": {
   "codemirror_mode": {
    "name": "ipython",
    "version": 3
   },
   "file_extension": ".py",
   "mimetype": "text/x-python",
   "name": "python",
   "nbconvert_exporter": "python",
   "pygments_lexer": "ipython3",
   "version": 3
  },
  "orig_nbformat": 2
 },
 "nbformat": 4,
 "nbformat_minor": 2
}