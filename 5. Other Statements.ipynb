{
 "cells": [
  {
   "cell_type": "markdown",
   "metadata": {},
   "source": [
    "# Other Statements\n",
    "\n",
    "In this notebook we'll present several SQL statements and commands so that we can add new skills to our SQl arsenal.\n",
    "\n",
    "Just like in previous notebooks we create the usual functions and objects"
   ]
  },
  {
   "cell_type": "code",
   "execution_count": 2,
   "metadata": {},
   "outputs": [],
   "source": [
    "# Usual libraries\n",
    "import pandas as pd\n",
    "import psycopg2 as pg2\n",
    "\n",
    "# Creates the connection to the database\n",
    "connection = pg2.connect(database = 'premier_league', user = 'postgres', password = 'password')\n",
    "\n",
    "# Defines get_data function\n",
    "def get_data(query, rows = 10):\n",
    "\n",
    "    with connection.cursor() as cursor:\n",
    "        cursor.execute(query)\n",
    "\n",
    "        if rows == 'all':\n",
    "            raw_data = cursor.fetchall()\n",
    "        else:\n",
    "            raw_data = cursor.fetchmany(rows) \n",
    "\n",
    "        col_names = [col_desc[0] for col_desc in cursor.description]\n",
    "        data = pd.DataFrame(raw_data, columns = col_names)\n",
    "\n",
    "    return data\n",
    "\n",
    "# Creates cursor\n",
    "cursor = connection.cursor()"
   ]
  },
  {
   "cell_type": "markdown",
   "metadata": {},
   "source": [
    "Recall that, in the previous notebook, to show the usage of the DELELTE and DROP statements we removed some some rows and columns form the premiere_league database. To have more data to play with, we'll restore the database to its original state."
   ]
  },
  {
   "cell_type": "code",
   "execution_count": 3,
   "metadata": {},
   "outputs": [],
   "source": [
    "# Deletes tables\n",
    "delete_tables = 'DROP TABLE IF EXISTS clubs, players'\n",
    "cursor.execute(delete_tables)\n",
    "\n",
    "create_clubs_table = '''\n",
    "                     CREATE TABLE clubs(\n",
    "                         club_id SERIAL PRIMARY KEY,\n",
    "                         name VARCHAR(100) UNIQUE NOT NULL,\n",
    "                         stadium_name VARCHAR(100), \n",
    "                         location VARCHAR(100),\n",
    "                         times_champion INTEGER CHECK(times_champion >= 0)\n",
    "                     )\n",
    "                     '''\n",
    "\n",
    "create_players_table = '''\n",
    "                       CREATE TABLE players(\n",
    "                           player_id SERIAL PRIMARY KEY,\n",
    "                           first_name VARCHAR(100) NOT NULL,\n",
    "                           last_name VARCHAR(100) NOT NULL, \n",
    "                           club_id INTEGER REFERENCES clubs(club_id),\n",
    "                           nationality VARCHAR(100) NOT NULL\n",
    "                       )\n",
    "                       '''\n",
    "\n",
    "# Creates tables\n",
    "cursor.execute(create_clubs_table)\n",
    "cursor.execute(create_players_table)"
   ]
  },
  {
   "cell_type": "markdown",
   "metadata": {},
   "source": [
    "Interts the rows into both tables "
   ]
  },
  {
   "cell_type": "code",
   "execution_count": 4,
   "metadata": {},
   "outputs": [],
   "source": [
    "# Inserts clubs\n",
    "clubs = [\n",
    "        ('Liverpool FC', 'Anfield', 'Liverpool', 19),\n",
    "        ('Manchester United FC', 'Old Trafford', 'Manchester', 20),\n",
    "        ('Manchester City FC', 'Etihad Stadium', 'Manchester', 6),\n",
    "        ('Chelsea FC', 'Stamford Bridge', 'London', 6),\n",
    "        ('Tottenham Hotspur FC', 'Tottenham Hotspur Stadium', 'London', 2)\n",
    "        ]\n",
    "\n",
    "insert_generic_club = '''\n",
    "                      INSERT INTO clubs(name, stadium_name, location, times_champion)\n",
    "                      VALUES\n",
    "                      (%s, %s, %s, %s)\n",
    "                      '''\n",
    "\n",
    "for club in clubs:\n",
    "    cursor.execute(insert_generic_club, club)\n",
    "\n",
    "# Insterts players\n",
    "players = [\n",
    "          ('Mohamed', 'Salah', 1, 'Egyptian'),\n",
    "          ('Sadio', 'Mane', 1, 'Senegalese'),\n",
    "          ('Marcus', 'Rashford', 2, 'British'),\n",
    "          ('Sergio', 'Aguero', 3, 'Argentine'),\n",
    "          ('Timo', 'Werner', 4, 'German') ,\n",
    "          ('Harry', 'Kane', 5, 'British')\n",
    "          ]\n",
    "\n",
    "insert_player = '''\n",
    "                INSERT INTO players(first_name, last_name, club_id, Nationality)\n",
    "                VALUES\n",
    "                (%s, %s, %s, %s)\n",
    "                '''\n",
    "                \n",
    "for player in players:\n",
    "    cursor.execute(insert_player, player)"
   ]
  },
  {
   "cell_type": "markdown",
   "metadata": {},
   "source": [
    "Let's display the tables"
   ]
  },
  {
   "cell_type": "code",
   "execution_count": 5,
   "metadata": {},
   "outputs": [
    {
     "output_type": "execute_result",
     "data": {
      "text/plain": "   club_id                  name               stadium_name    location  \\\n0        1          Liverpool FC                    Anfield   Liverpool   \n1        2  Manchester United FC               Old Trafford  Manchester   \n2        3    Manchester City FC             Etihad Stadium  Manchester   \n3        4            Chelsea FC            Stamford Bridge      London   \n4        5  Tottenham Hotspur FC  Tottenham Hotspur Stadium      London   \n\n   times_champion  \n0              19  \n1              20  \n2               6  \n3               6  \n4               2  ",
      "text/html": "<div>\n<style scoped>\n    .dataframe tbody tr th:only-of-type {\n        vertical-align: middle;\n    }\n\n    .dataframe tbody tr th {\n        vertical-align: top;\n    }\n\n    .dataframe thead th {\n        text-align: right;\n    }\n</style>\n<table border=\"1\" class=\"dataframe\">\n  <thead>\n    <tr style=\"text-align: right;\">\n      <th></th>\n      <th>club_id</th>\n      <th>name</th>\n      <th>stadium_name</th>\n      <th>location</th>\n      <th>times_champion</th>\n    </tr>\n  </thead>\n  <tbody>\n    <tr>\n      <th>0</th>\n      <td>1</td>\n      <td>Liverpool FC</td>\n      <td>Anfield</td>\n      <td>Liverpool</td>\n      <td>19</td>\n    </tr>\n    <tr>\n      <th>1</th>\n      <td>2</td>\n      <td>Manchester United FC</td>\n      <td>Old Trafford</td>\n      <td>Manchester</td>\n      <td>20</td>\n    </tr>\n    <tr>\n      <th>2</th>\n      <td>3</td>\n      <td>Manchester City FC</td>\n      <td>Etihad Stadium</td>\n      <td>Manchester</td>\n      <td>6</td>\n    </tr>\n    <tr>\n      <th>3</th>\n      <td>4</td>\n      <td>Chelsea FC</td>\n      <td>Stamford Bridge</td>\n      <td>London</td>\n      <td>6</td>\n    </tr>\n    <tr>\n      <th>4</th>\n      <td>5</td>\n      <td>Tottenham Hotspur FC</td>\n      <td>Tottenham Hotspur Stadium</td>\n      <td>London</td>\n      <td>2</td>\n    </tr>\n  </tbody>\n</table>\n</div>"
     },
     "metadata": {},
     "execution_count": 5
    }
   ],
   "source": [
    "clubs = get_data('SELECT * FROM clubs')\n",
    "players = get_data('SELECT * FROM players')\n",
    "\n",
    "clubs"
   ]
  },
  {
   "cell_type": "code",
   "execution_count": 6,
   "metadata": {},
   "outputs": [
    {
     "output_type": "execute_result",
     "data": {
      "text/plain": "   player_id first_name last_name  club_id nationality\n0          1    Mohamed     Salah        1    Egyptian\n1          2      Sadio      Mane        1  Senegalese\n2          3     Marcus  Rashford        2     British\n3          4     Sergio    Aguero        3   Argentine\n4          5       Timo    Werner        4      German\n5          6      Harry      Kane        5     British",
      "text/html": "<div>\n<style scoped>\n    .dataframe tbody tr th:only-of-type {\n        vertical-align: middle;\n    }\n\n    .dataframe tbody tr th {\n        vertical-align: top;\n    }\n\n    .dataframe thead th {\n        text-align: right;\n    }\n</style>\n<table border=\"1\" class=\"dataframe\">\n  <thead>\n    <tr style=\"text-align: right;\">\n      <th></th>\n      <th>player_id</th>\n      <th>first_name</th>\n      <th>last_name</th>\n      <th>club_id</th>\n      <th>nationality</th>\n    </tr>\n  </thead>\n  <tbody>\n    <tr>\n      <th>0</th>\n      <td>1</td>\n      <td>Mohamed</td>\n      <td>Salah</td>\n      <td>1</td>\n      <td>Egyptian</td>\n    </tr>\n    <tr>\n      <th>1</th>\n      <td>2</td>\n      <td>Sadio</td>\n      <td>Mane</td>\n      <td>1</td>\n      <td>Senegalese</td>\n    </tr>\n    <tr>\n      <th>2</th>\n      <td>3</td>\n      <td>Marcus</td>\n      <td>Rashford</td>\n      <td>2</td>\n      <td>British</td>\n    </tr>\n    <tr>\n      <th>3</th>\n      <td>4</td>\n      <td>Sergio</td>\n      <td>Aguero</td>\n      <td>3</td>\n      <td>Argentine</td>\n    </tr>\n    <tr>\n      <th>4</th>\n      <td>5</td>\n      <td>Timo</td>\n      <td>Werner</td>\n      <td>4</td>\n      <td>German</td>\n    </tr>\n    <tr>\n      <th>5</th>\n      <td>6</td>\n      <td>Harry</td>\n      <td>Kane</td>\n      <td>5</td>\n      <td>British</td>\n    </tr>\n  </tbody>\n</table>\n</div>"
     },
     "metadata": {},
     "execution_count": 6
    }
   ],
   "source": [
    "players"
   ]
  },
  {
   "cell_type": "markdown",
   "metadata": {},
   "source": [
    "## CASE Statement\n",
    "\n",
    "The CASE statement is very similiar to the _ if, if else, else _ block in other programming languages. It will help us to only excecute a particular set of SQL statements when certain conditions are satisfied. \n",
    "\n",
    "## Ex. 1\n",
    "\n",
    "For example, we can ask whether or not a player plays for the liverpool"
   ]
  },
  {
   "cell_type": "code",
   "execution_count": 7,
   "metadata": {},
   "outputs": [
    {
     "output_type": "execute_result",
     "data": {
      "text/plain": "  first_name last_name plays_for_liverpool\n0    Mohamed     Salah                 yes\n1      Sadio      Mane                 yes\n2     Marcus  Rashford                  no\n3     Sergio    Aguero                  no\n4       Timo    Werner                  no\n5      Harry      Kane                  no",
      "text/html": "<div>\n<style scoped>\n    .dataframe tbody tr th:only-of-type {\n        vertical-align: middle;\n    }\n\n    .dataframe tbody tr th {\n        vertical-align: top;\n    }\n\n    .dataframe thead th {\n        text-align: right;\n    }\n</style>\n<table border=\"1\" class=\"dataframe\">\n  <thead>\n    <tr style=\"text-align: right;\">\n      <th></th>\n      <th>first_name</th>\n      <th>last_name</th>\n      <th>plays_for_liverpool</th>\n    </tr>\n  </thead>\n  <tbody>\n    <tr>\n      <th>0</th>\n      <td>Mohamed</td>\n      <td>Salah</td>\n      <td>yes</td>\n    </tr>\n    <tr>\n      <th>1</th>\n      <td>Sadio</td>\n      <td>Mane</td>\n      <td>yes</td>\n    </tr>\n    <tr>\n      <th>2</th>\n      <td>Marcus</td>\n      <td>Rashford</td>\n      <td>no</td>\n    </tr>\n    <tr>\n      <th>3</th>\n      <td>Sergio</td>\n      <td>Aguero</td>\n      <td>no</td>\n    </tr>\n    <tr>\n      <th>4</th>\n      <td>Timo</td>\n      <td>Werner</td>\n      <td>no</td>\n    </tr>\n    <tr>\n      <th>5</th>\n      <td>Harry</td>\n      <td>Kane</td>\n      <td>no</td>\n    </tr>\n  </tbody>\n</table>\n</div>"
     },
     "metadata": {},
     "execution_count": 7
    }
   ],
   "source": [
    "query_1 = '''\n",
    "          SELECT first_name, last_name, \n",
    "          CASE \n",
    "              WHEN club_id = 1 THEN 'yes'\n",
    "              ELSE 'no'\n",
    "          END AS plays_for_liverpool \n",
    "          FROM players        \n",
    "          '''\n",
    "\n",
    "plays_for_liverpool = get_data(query_1)\n",
    "plays_for_liverpool"
   ]
  },
  {
   "cell_type": "markdown",
   "metadata": {},
   "source": [
    "## COALESCE Function\n",
    "\n",
    "The COALESCE function accepts an unlimited number or arguments and returns the first not NULL argument. The main purpose of this functions is tu help us deal with the NULL values in a table.\n",
    "\n",
    "Notice that there are no NULL values in both tables. We'll modify a couple of rows un the clubs table so that there are NULL values in the table."
   ]
  },
  {
   "cell_type": "code",
   "execution_count": 8,
   "metadata": {},
   "outputs": [
    {
     "output_type": "execute_result",
     "data": {
      "text/plain": "   club_id                  name               stadium_name    location  \\\n0        1          Liverpool FC                    Anfield   Liverpool   \n1        2  Manchester United FC               Old Trafford  Manchester   \n2        5  Tottenham Hotspur FC  Tottenham Hotspur Stadium      London   \n3        3    Manchester City FC             Etihad Stadium  Manchester   \n4        4            Chelsea FC            Stamford Bridge      London   \n\n   times_champion  \n0            19.0  \n1            20.0  \n2             2.0  \n3             NaN  \n4             NaN  ",
      "text/html": "<div>\n<style scoped>\n    .dataframe tbody tr th:only-of-type {\n        vertical-align: middle;\n    }\n\n    .dataframe tbody tr th {\n        vertical-align: top;\n    }\n\n    .dataframe thead th {\n        text-align: right;\n    }\n</style>\n<table border=\"1\" class=\"dataframe\">\n  <thead>\n    <tr style=\"text-align: right;\">\n      <th></th>\n      <th>club_id</th>\n      <th>name</th>\n      <th>stadium_name</th>\n      <th>location</th>\n      <th>times_champion</th>\n    </tr>\n  </thead>\n  <tbody>\n    <tr>\n      <th>0</th>\n      <td>1</td>\n      <td>Liverpool FC</td>\n      <td>Anfield</td>\n      <td>Liverpool</td>\n      <td>19.0</td>\n    </tr>\n    <tr>\n      <th>1</th>\n      <td>2</td>\n      <td>Manchester United FC</td>\n      <td>Old Trafford</td>\n      <td>Manchester</td>\n      <td>20.0</td>\n    </tr>\n    <tr>\n      <th>2</th>\n      <td>5</td>\n      <td>Tottenham Hotspur FC</td>\n      <td>Tottenham Hotspur Stadium</td>\n      <td>London</td>\n      <td>2.0</td>\n    </tr>\n    <tr>\n      <th>3</th>\n      <td>3</td>\n      <td>Manchester City FC</td>\n      <td>Etihad Stadium</td>\n      <td>Manchester</td>\n      <td>NaN</td>\n    </tr>\n    <tr>\n      <th>4</th>\n      <td>4</td>\n      <td>Chelsea FC</td>\n      <td>Stamford Bridge</td>\n      <td>London</td>\n      <td>NaN</td>\n    </tr>\n  </tbody>\n</table>\n</div>"
     },
     "metadata": {},
     "execution_count": 8
    }
   ],
   "source": [
    "insert_null_values = '''\n",
    "                     UPDATE clubs\n",
    "                     SET times_champion = NULL\n",
    "                     WHERE name IN ('Chelsea FC', 'Manchester City FC')\n",
    "                     '''\n",
    "\n",
    "cursor.execute(insert_null_values)\n",
    "# Displays the clubs table\n",
    "clubs = get_data('SELECT * FROM clubs')\n",
    "clubs"
   ]
  },
  {
   "cell_type": "markdown",
   "metadata": {},
   "source": [
    "## Ex. 3\n",
    "\n",
    "Imagine that, for some reason, we need to add one to all the times_champion values. Also, let´s suppose that the reason why some clubs have a NULL value in the time_champion field, is because they have never won the premier league (despite we know that Chelsea and Man. City have, indeed, won the league several times). \n",
    "\n",
    "Let's see what happens if we just try to make the sum without taking attention to the NULL values in teh table"
   ]
  },
  {
   "cell_type": "code",
   "execution_count": null,
   "metadata": {},
   "outputs": [],
   "source": [
    "query_2 = '''\n",
    "          SELECT name, \n",
    "          CASE \n",
    "              WHEN times_champion > 0 THEN 'yes'\n",
    "              ELSE 'no'\n",
    "          END AS has_been_champion \n",
    "          FROM clubs      \n",
    "          '''"
   ]
  }
 ],
 "metadata": {
  "language_info": {
   "codemirror_mode": {
    "name": "ipython",
    "version": 3
   },
   "file_extension": ".py",
   "mimetype": "text/x-python",
   "name": "python",
   "nbconvert_exporter": "python",
   "pygments_lexer": "ipython3",
   "version": "3.8.1-final"
  },
  "orig_nbformat": 2,
  "kernelspec": {
   "name": "python38364bitsqlcondac46ff261eb2d405f8ac307a3c81d2935",
   "display_name": "Python 3.8.3 64-bit ('sql': conda)"
  }
 },
 "nbformat": 4,
 "nbformat_minor": 2
}